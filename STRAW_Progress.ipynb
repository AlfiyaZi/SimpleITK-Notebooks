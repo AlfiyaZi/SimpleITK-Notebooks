{
 "metadata": {
  "name": ""
 },
 "nbformat": 3,
 "nbformat_minor": 0,
 "worksheets": [
  {
   "cells": [
    {
     "cell_type": "markdown",
     "metadata": {},
     "source": [
      "#STRAW Progress Reporting and Command/Observes - Review of the Design\n",
      "\n",
      "The information here is from an initial implementation of adding call-back of command observer handling to SimpleITK. The current experimental topic can be found here:\n",
      "https://github.com/blowekamp/SimpleITK/tree/STRAW-SIMPLEITK-441_CallbackPrototype\n",
      "\n",
      "The goal was to add support for ITK event support through SimpleITK, so that users of SimpleITK can receive call backs for execution on events such as start, progress, end, iteration as well as better control the execution with support abort control and other events."
     ]
    },
    {
     "cell_type": "markdown",
     "metadata": {},
     "source": [
      "## The Event Types\n",
      "The first thing to be done is to simple use an enumerated type for the differnt event type in SimpleITK. \n",
      "\n",
      "C++ Implementation:\n",
      "\n",
      "`enum EventEnum {\n",
      "  sitkAnyEvent = 0,\n",
      "  sitkAbortEvent = 1,\n",
      "  sitkDeleteEvent = 2,\n",
      "  sitkEndEvent = 3,\n",
      "  sitkIterationEvent = 4,\n",
      "  sitkProgressEvent = 5,\n",
      "  sitkStartEvent = 6,\n",
      "  sitkUserEvent = 7\n",
      "};`"
     ]
    },
    {
     "cell_type": "markdown",
     "metadata": {},
     "source": [
      "C++ is more stongly typed than many target languages it allows for implicit conversion from an enum type to an int, but not from an int to an enum type. While on many target languages the enum elemenents are one-to-one with integers.\n",
      "\n",
      "The convention of prefixing enums with sitk, is continued although it's getting a little crowded. (Recently the KernelType enumeration for morhology was copied from each filter to the namespace)"
     ]
    },
    {
     "cell_type": "code",
     "collapsed": false,
     "input": [
      "from __future__ import print_function\n",
      "\n",
      "import SimpleITK as sitk\n",
      "print(sitk.Version())\n",
      "\n",
      "import sys\n",
      "import os\n",
      "import threading\n",
      "\n",
      "from myshow import myshow\n",
      "from myshow import myshow3d"
     ],
     "language": "python",
     "metadata": {},
     "outputs": [
      {
       "output_type": "stream",
       "stream": "stdout",
       "text": [
        "SimpleITK Version: 0.8.0.dev127-gbbb73\n",
        "Compiled: Jan  2 2014 17:41:05\n",
        "\n"
       ]
      }
     ],
     "prompt_number": 1
    },
    {
     "cell_type": "code",
     "collapsed": false,
     "input": [
      "# hit tab-tab to reveal suggested completions\n",
      "sitk.sitk"
     ],
     "language": "python",
     "metadata": {},
     "outputs": [
      {
       "ename": "AttributeError",
       "evalue": "'module' object has no attribute 'sitk'",
       "output_type": "pyerr",
       "traceback": [
        "\u001b[0;31m---------------------------------------------------------------------------\u001b[0m\n\u001b[0;31mAttributeError\u001b[0m                            Traceback (most recent call last)",
        "\u001b[0;32m<ipython-input-3-c6b6f0779591>\u001b[0m in \u001b[0;36m<module>\u001b[0;34m()\u001b[0m\n\u001b[1;32m      1\u001b[0m \u001b[0;31m# hit tab-tab to reveal suggested completions\u001b[0m\u001b[0;34m\u001b[0m\u001b[0;34m\u001b[0m\u001b[0m\n\u001b[0;32m----> 2\u001b[0;31m \u001b[0msitk\u001b[0m\u001b[0;34m.\u001b[0m\u001b[0msitk\u001b[0m\u001b[0;34m\u001b[0m\u001b[0m\n\u001b[0m",
        "\u001b[0;31mAttributeError\u001b[0m: 'module' object has no attribute 'sitk'"
       ]
      }
     ],
     "prompt_number": 3
    },
    {
     "cell_type": "markdown",
     "metadata": {},
     "source": [
      "## The Simple Command Types\n",
      "\n",
      "The considerations for the command type include ability to easily create a custom call back for the target language, be stack allocatable, as well as have the exposed interface be free from pointers.\n",
      "\n",
      "The resulting C++ user interface is about as simple as can be:\n",
      "\n",
      "`\n",
      "class Command:\n",
      "    protected NonCopyable\n",
      "{\n",
      "public:\n",
      "  Command();\n",
      "  virtual ~Command(void);\n",
      "  virtual void Execute(void);\n",
      "};`\n",
      "\n",
      "An interesting choice that was made here was not to include the object which emited the even nor additional user data as an argument to the `Execute` method. Modern languages have features such as lambda function and closures enabling the ability to bind argument to existing methods to create new procedures free from exposed parameters.\n",
      "\n",
      "The complication of the class is enabling the ability to be stack allocatable, which the details are handled seemlessly internally.\n",
      "\n",
      "A custom derived Python class has a method call `SetCommandCallable` for easy use."
     ]
    },
    {
     "cell_type": "code",
     "collapsed": false,
     "input": [
      "help(sitk.PyCommand)"
     ],
     "language": "python",
     "metadata": {
      "slideshow": {
       "slide_type": "-"
      }
     },
     "outputs": [
      {
       "output_type": "stream",
       "stream": "stdout",
       "text": [
        "Help on class PyCommand in module SimpleITK:\n",
        "\n",
        "class PyCommand(Command)\n",
        " |  Proxy of C++ itk::simple::PyCommand class\n",
        " |  \n",
        " |  Method resolution order:\n",
        " |      PyCommand\n",
        " |      Command\n",
        " |      __builtin__.object\n",
        " |  \n",
        " |  Methods defined here:\n",
        " |  \n",
        " |  Execute(self)\n",
        " |      Execute(PyCommand self)\n",
        " |  \n",
        " |  GetCommandCallable(self)\n",
        " |      GetCommandCallable(PyCommand self) -> PyObject *\n",
        " |  \n",
        " |  SetCommandCallable(self, *args, **kwargs)\n",
        " |      SetCommandCallable(PyCommand self, PyObject * obj)\n",
        " |  \n",
        " |  __del__ lambda self\n",
        " |  \n",
        " |  __getattr__ lambda self, name\n",
        " |  \n",
        " |  __init__(self)\n",
        " |      __init__(itk::simple::PyCommand self) -> PyCommand\n",
        " |  \n",
        " |  __repr__ = _swig_repr(self)\n",
        " |  \n",
        " |  __setattr__ lambda self, name, value\n",
        " |  \n",
        " |  ----------------------------------------------------------------------\n",
        " |  Data and other attributes defined here:\n",
        " |  \n",
        " |  __swig_destroy__ = <built-in function delete_PyCommand>\n",
        " |      delete_PyCommand(PyCommand self)\n",
        " |  \n",
        " |  __swig_getmethods__ = {}\n",
        " |  \n",
        " |  __swig_setmethods__ = {}\n",
        " |  \n",
        " |  ----------------------------------------------------------------------\n",
        " |  Data descriptors inherited from Command:\n",
        " |  \n",
        " |  __dict__\n",
        " |      dictionary for instance variables (if defined)\n",
        " |  \n",
        " |  __weakref__\n",
        " |      list of weak references to the object (if defined)\n",
        "\n"
       ]
      }
     ],
     "prompt_number": 4
    },
    {
     "cell_type": "code",
     "collapsed": false,
     "input": [
      "cmd = sitk.PyCommand()\n",
      "cmd.SetCommandCallable( lambda: print(\"PyCommand Called\") )\n",
      "cmd.Execute()"
     ],
     "language": "python",
     "metadata": {},
     "outputs": [
      {
       "output_type": "stream",
       "stream": "stdout",
       "text": [
        "PyCommand Called\n"
       ]
      }
     ],
     "prompt_number": 5
    },
    {
     "cell_type": "markdown",
     "metadata": {},
     "source": [
      "We are going to need an image shortly, so create a Gabor kernel using keyword arguments."
     ]
    },
    {
     "cell_type": "code",
     "collapsed": false,
     "input": [
      "size=128\n",
      "img = sitk.GaborSource(sitk.sitkFloat32, size=[size]*3, sigma=[size*.2]*3, mean=[size*0.5]*3, frequency=.1)\n",
      "myshow3d(img,zslices=[size/2],dpi=40);"
     ],
     "language": "python",
     "metadata": {},
     "outputs": [
      {
       "metadata": {},
       "output_type": "display_data",
       "png": "[encoded data removed]",
       "text": [
        "<matplotlib.figure.Figure at 0x10bb1e8d0>"
       ]
      }
     ],
     "prompt_number": 11
    },
    {
     "cell_type": "markdown",
     "metadata": {},
     "source": [
      "##The ProcessObject interface for the invoker/subject\n",
      "\n",
      "SimpleITK doesn't have a large heirachy of inheritance. It has been kept to a minimal, so there is no common `Object` or `LightObject` base class. As most of the goals for the event have to do with observing process the \"Subject\" interface of the Observer patter or the \"Invoker\" part of the Command design pattern, this interface has been added to a `ProcessObject` base class for filters.\n",
      "\n",
      "Recent developments in the `ProcessObject` have included adding global and instance specific options for Debug and Warning messages as well as the number of threads. Additionally, an `Abort` method has been added to assist with execution management of filters.\n",
      "\n",
      "The member methods added for the event interface as follows:\n",
      "\n",
      "`int AddCommand( itk::simple::EventEnum event, itk::simple::Command *cmd); // This will \n",
      "void RemoveCommand( int cmdID );\n",
      "void RemoveAllCommands();\n",
      "bool HasCommand( itk::simple::EventEnum event ) const;`\n",
      "\n",
      "With the current choices with avoiding the user of pointer a `GetCommand` method will not be implemented. \n",
      "\n",
      "Adding these functionalities does not go with the procedural interface style available in SimpleITK. They are only available through the Object Oriented interface, and break the method chaining interface."
     ]
    },
    {
     "cell_type": "code",
     "collapsed": false,
     "input": [
      "help(sitk.ProcessObject)"
     ],
     "language": "python",
     "metadata": {},
     "outputs": [
      {
       "output_type": "stream",
       "stream": "stdout",
       "text": [
        "Help on class ProcessObject in module SimpleITK:\n",
        "\n",
        "class ProcessObject(__builtin__.object)\n",
        " |  Proxy of C++ itk::simple::ProcessObject class\n",
        " |  \n",
        " |  Methods defined here:\n",
        " |  \n",
        " |  Abort(self)\n",
        " |      Abort(ProcessObject self)\n",
        " |  \n",
        " |  AddCommand(self, *args)\n",
        " |      AddCommand(ProcessObject self, itk::simple::EventEnum event, Command cmd) -> int\n",
        " |      AddCommand(ProcessObject self, itk::simple::EventEnum e, PyObject * obj) -> int\n",
        " |  \n",
        " |  DebugOff(self)\n",
        " |      DebugOff(ProcessObject self)\n",
        " |  \n",
        " |  DebugOn(self)\n",
        " |      DebugOn(ProcessObject self)\n",
        " |  \n",
        " |  GetDebug(self)\n",
        " |      GetDebug(ProcessObject self) -> bool\n",
        " |  \n",
        " |  GetName(self)\n",
        " |      GetName(ProcessObject self) -> std::string\n",
        " |  \n",
        " |  GetNumberOfThreads(self)\n",
        " |      GetNumberOfThreads(ProcessObject self) -> unsigned int\n",
        " |  \n",
        " |  GetProgress(self)\n",
        " |      GetProgress(ProcessObject self) -> float\n",
        " |  \n",
        " |  HasCommand(self, *args, **kwargs)\n",
        " |      HasCommand(ProcessObject self, itk::simple::EventEnum event) -> bool\n",
        " |  \n",
        " |  RemoveAllCommands(self)\n",
        " |      RemoveAllCommands(ProcessObject self)\n",
        " |  \n",
        " |  SetDebug(self, *args, **kwargs)\n",
        " |      SetDebug(ProcessObject self, bool debugFlag)\n",
        " |  \n",
        " |  SetNumberOfThreads(self, *args, **kwargs)\n",
        " |      SetNumberOfThreads(ProcessObject self, unsigned int n)\n",
        " |  \n",
        " |  __del__ lambda self\n",
        " |  \n",
        " |  __getattr__ lambda self, name\n",
        " |  \n",
        " |  __init__(self, *args, **kwargs)\n",
        " |  \n",
        " |  __repr__ = _swig_repr(self)\n",
        " |  \n",
        " |  __setattr__ lambda self, name, value\n",
        " |  \n",
        " |  __str__(self)\n",
        " |      __str__(ProcessObject self) -> std::string\n",
        " |  \n",
        " |  ----------------------------------------------------------------------\n",
        " |  Static methods defined here:\n",
        " |  \n",
        " |  GetGlobalDefaultDebug()\n",
        " |      GetGlobalDefaultDebug() -> bool\n",
        " |  \n",
        " |  GetGlobalDefaultNumberOfThreads()\n",
        " |      GetGlobalDefaultNumberOfThreads() -> unsigned int\n",
        " |  \n",
        " |  GetGlobalWarningDisplay()\n",
        " |      GetGlobalWarningDisplay() -> bool\n",
        " |  \n",
        " |  GlobalDefaultDebugOff()\n",
        " |      GlobalDefaultDebugOff()\n",
        " |  \n",
        " |  GlobalDefaultDebugOn()\n",
        " |      GlobalDefaultDebugOn()\n",
        " |  \n",
        " |  GlobalWarningDisplayOff()\n",
        " |      GlobalWarningDisplayOff()\n",
        " |  \n",
        " |  GlobalWarningDisplayOn()\n",
        " |      GlobalWarningDisplayOn()\n",
        " |  \n",
        " |  SetGlobalDefaultDebug(*args, **kwargs)\n",
        " |      SetGlobalDefaultDebug(bool debugFlag)\n",
        " |  \n",
        " |  SetGlobalDefaultNumberOfThreads(*args, **kwargs)\n",
        " |      SetGlobalDefaultNumberOfThreads(unsigned int n)\n",
        " |  \n",
        " |  SetGlobalWarningDisplay(*args, **kwargs)\n",
        " |      SetGlobalWarningDisplay(bool flag)\n",
        " |  \n",
        " |  ----------------------------------------------------------------------\n",
        " |  Data descriptors defined here:\n",
        " |  \n",
        " |  __dict__\n",
        " |      dictionary for instance variables (if defined)\n",
        " |  \n",
        " |  __weakref__\n",
        " |      list of weak references to the object (if defined)\n",
        " |  \n",
        " |  ----------------------------------------------------------------------\n",
        " |  Data and other attributes defined here:\n",
        " |  \n",
        " |  __swig_destroy__ = <built-in function delete_ProcessObject>\n",
        " |      delete_ProcessObject(ProcessObject self)\n",
        " |  \n",
        " |  __swig_getmethods__ = {'GetGlobalDefaultDebug': <function <lambda>>, '...\n",
        " |  \n",
        " |  __swig_setmethods__ = {}\n",
        "\n"
       ]
      }
     ],
     "prompt_number": 7
    },
    {
     "cell_type": "markdown",
     "metadata": {},
     "source": [
      "The complication is that both the `ProcessObject` and the `Command` base class can be stack allocated and internally the `ProcessObject` maintains a pointer to the `Command`. Unfortunately, a new book keeping mechinism was created. The `Command` keeps a list `ProcessObjects` which reference, and then `ProcessObject` keeps the list of `Commands`. When either is deleted the others are notified to create keep reference valid. This is tricky and error prone.  "
     ]
    },
    {
     "cell_type": "code",
     "collapsed": false,
     "input": [
      "gFilter=sitk.DiscreteGaussianImageFilter()\n",
      "gFilter.SetVariance(100)\n",
      "\n",
      "gFilter.AddCommand(sitk.sitkStartEvent, cmd)"
     ],
     "language": "python",
     "metadata": {},
     "outputs": [
      {
       "metadata": {},
       "output_type": "pyout",
       "prompt_number": 8,
       "text": [
        "0"
       ]
      }
     ],
     "prompt_number": 8
    },
    {
     "cell_type": "code",
     "collapsed": false,
     "input": [
      "gFilter.Execute(img)"
     ],
     "language": "python",
     "metadata": {},
     "outputs": [
      {
       "output_type": "stream",
       "stream": "stdout",
       "text": [
        "PyCommand Called\n"
       ]
      },
      {
       "metadata": {},
       "output_type": "pyout",
       "prompt_number": 9,
       "text": [
        "<SimpleITK.Image; proxy of <Swig Object of type 'std::vector< itk::simple::Image >::value_type *' at 0x11b190b70> >"
       ]
      }
     ],
     "prompt_number": 9
    },
    {
     "cell_type": "markdown",
     "metadata": {},
     "source": [
      "In Python the `AddCommand` has been extended to accept PyCommand objects and creating a `PyCommand`. This is **really** useful."
     ]
    },
    {
     "cell_type": "code",
     "collapsed": false,
     "input": [
      "gFilter.RemoveAllCommands()\n",
      "gFilter.AddCommand(sitk.sitkStartEvent, lambda: print(\"Starting...\",end=''))\n",
      "gFilter.AddCommand(sitk.sitkStartEvent, lambda: sys.stdout.flush())\n",
      "gFilter.AddCommand(sitk.sitkEndEvent, lambda: print(\"Done\"))\n",
      "gFilter.Execute(img)"
     ],
     "language": "python",
     "metadata": {},
     "outputs": [
      {
       "output_type": "stream",
       "stream": "stdout",
       "text": [
        "Starting..."
       ]
      },
      {
       "output_type": "stream",
       "stream": "stdout",
       "text": [
        "Done\n"
       ]
      },
      {
       "metadata": {},
       "output_type": "pyout",
       "prompt_number": 12,
       "text": [
        "<SimpleITK.Image; proxy of <Swig Object of type 'std::vector< itk::simple::Image >::value_type *' at 0x11b190ae0> >"
       ]
      }
     ],
     "prompt_number": 12
    },
    {
     "cell_type": "markdown",
     "metadata": {},
     "source": [
      "## Access to ITK data during command execution\n",
      "The commands are not too useful unless you can query the ITK object through the SimpleITK interface. Interacting with ITK object has been totally encapsulated in side the SimpleITK iterface. This is quite a new feature!\n",
      "\n",
      "A couple status variables and methods can be expose in the SimpleITK `ProcessObject` through the polymorphic interface of the same ITK class. This is the approach taked for the `GetProgress` and `Abort` methods."
     ]
    },
    {
     "cell_type": "code",
     "collapsed": false,
     "input": [
      "p = ProgressBar(1000)\n",
      "gFilter.RemoveAllCommands()\n",
      "gFilter.AddCommand(sitk.sitkProgressEvent, lambda: print(\"\\rProgress: {0:03.1f}%...\".format(100*gFilter.GetProgress()),end=''))\n",
      "gFilter.AddCommand(sitk.sitkProgressEvent, lambda: sys.stdout.flush())\n",
      "gFilter.AddCommand(sitk.sitkEndEvent, lambda: print(\"Done\"))\n",
      "gFilter.Execute(img)"
     ],
     "language": "python",
     "metadata": {},
     "outputs": [
      {
       "ename": "NameError",
       "evalue": "name 'ProgressBar' is not defined",
       "output_type": "pyerr",
       "traceback": [
        "\u001b[0;31m---------------------------------------------------------------------------\u001b[0m\n\u001b[0;31mNameError\u001b[0m                                 Traceback (most recent call last)",
        "\u001b[0;32m<ipython-input-13-40edc63a5743>\u001b[0m in \u001b[0;36m<module>\u001b[0;34m()\u001b[0m\n\u001b[0;32m----> 1\u001b[0;31m \u001b[0mp\u001b[0m \u001b[0;34m=\u001b[0m \u001b[0mProgressBar\u001b[0m\u001b[0;34m(\u001b[0m\u001b[0;36m1000\u001b[0m\u001b[0;34m)\u001b[0m\u001b[0;34m\u001b[0m\u001b[0m\n\u001b[0m\u001b[1;32m      2\u001b[0m \u001b[0mgFilter\u001b[0m\u001b[0;34m.\u001b[0m\u001b[0mRemoveAllCommands\u001b[0m\u001b[0;34m(\u001b[0m\u001b[0;34m)\u001b[0m\u001b[0;34m\u001b[0m\u001b[0m\n\u001b[1;32m      3\u001b[0m \u001b[0mgFilter\u001b[0m\u001b[0;34m.\u001b[0m\u001b[0mAddCommand\u001b[0m\u001b[0;34m(\u001b[0m\u001b[0msitk\u001b[0m\u001b[0;34m.\u001b[0m\u001b[0msitkProgressEvent\u001b[0m\u001b[0;34m,\u001b[0m \u001b[0;32mlambda\u001b[0m\u001b[0;34m:\u001b[0m \u001b[0;32mprint\u001b[0m\u001b[0;34m(\u001b[0m\u001b[0;34m\"\\rProgress: {0:03.1f}%...\"\u001b[0m\u001b[0;34m.\u001b[0m\u001b[0mformat\u001b[0m\u001b[0;34m(\u001b[0m\u001b[0;36m100\u001b[0m\u001b[0;34m*\u001b[0m\u001b[0mgFilter\u001b[0m\u001b[0;34m.\u001b[0m\u001b[0mGetProgress\u001b[0m\u001b[0;34m(\u001b[0m\u001b[0;34m)\u001b[0m\u001b[0;34m)\u001b[0m\u001b[0;34m,\u001b[0m\u001b[0mend\u001b[0m\u001b[0;34m=\u001b[0m\u001b[0;34m''\u001b[0m\u001b[0;34m)\u001b[0m\u001b[0;34m)\u001b[0m\u001b[0;34m\u001b[0m\u001b[0m\n\u001b[1;32m      4\u001b[0m \u001b[0mgFilter\u001b[0m\u001b[0;34m.\u001b[0m\u001b[0mAddCommand\u001b[0m\u001b[0;34m(\u001b[0m\u001b[0msitk\u001b[0m\u001b[0;34m.\u001b[0m\u001b[0msitkProgressEvent\u001b[0m\u001b[0;34m,\u001b[0m \u001b[0;32mlambda\u001b[0m\u001b[0;34m:\u001b[0m \u001b[0msys\u001b[0m\u001b[0;34m.\u001b[0m\u001b[0mstdout\u001b[0m\u001b[0;34m.\u001b[0m\u001b[0mflush\u001b[0m\u001b[0;34m(\u001b[0m\u001b[0;34m)\u001b[0m\u001b[0;34m)\u001b[0m\u001b[0;34m\u001b[0m\u001b[0m\n\u001b[1;32m      5\u001b[0m \u001b[0mgFilter\u001b[0m\u001b[0;34m.\u001b[0m\u001b[0mAddCommand\u001b[0m\u001b[0;34m(\u001b[0m\u001b[0msitk\u001b[0m\u001b[0;34m.\u001b[0m\u001b[0msitkEndEvent\u001b[0m\u001b[0;34m,\u001b[0m \u001b[0;32mlambda\u001b[0m\u001b[0;34m:\u001b[0m \u001b[0;32mprint\u001b[0m\u001b[0;34m(\u001b[0m\u001b[0;34m\"Done\"\u001b[0m\u001b[0;34m)\u001b[0m\u001b[0;34m)\u001b[0m\u001b[0;34m\u001b[0m\u001b[0m\n",
        "\u001b[0;31mNameError\u001b[0m: name 'ProgressBar' is not defined"
       ]
      }
     ],
     "prompt_number": 13
    },
    {
     "cell_type": "markdown",
     "metadata": {},
     "source": [
      "For lack of a better name (open to suggestions), SimpleITK has \"measurements\" which are additional results available after execution of of filter. This has include things like number of iterations, convergence tolerances, and other computed statistics. They have been static in nature.\n",
      "\n",
      "A new concept is being developed called \"active measurements\". This is values, and object available during call backs as the filer is executing. The \"Progress\" accessible through the `ProcessObject` would be defined as an \"active measurement\".\n",
      "\n",
      "With the goal of reasonable efficiency we didn't want to copy these active measuement values each iteration without regaurd to if they were even used. To drill down into the ITK object the `std::(tr1)::function` pointers are use in conjunction with `bind` and function composition to create a callable with ITK object context and conversion.\n",
      "\n",
      "For Example:\n",
      "\n",
      "`unsigned int ImageRegistrationMethod::GetOptimizerIteration() const\n",
      "  {\n",
      "    if (bool(this->m_pfGetOptimizerIteration))\n",
      "      {\n",
      "      return this->m_pfGetOptimizerIteration();\n",
      "      }\n",
      "    return this->m_Iteration;\n",
      "  }`\n",
      "\n",
      "Where the `function` is defined:\n",
      "\n",
      "`\n",
      "std::tr1::function<std::vector<double>()> m_pfGetOptimizerPosition;`\n",
      "\n",
      "and can be initialized with a variety of methods such as:\n",
      "\n",
      "`\n",
      "this->m_pfGetOptimizerPosition = std::tr1::bind(&_GetOptimizerPosition,optimizer);`\n",
      "\n",
      " "
     ]
    },
    {
     "cell_type": "markdown",
     "metadata": {},
     "source": [
      "## Utilizing IPython Notebooks and Commands\n",
      "\n",
      "IPython notebooks support displaying output as HTML, and execution of javascript on demand. Together this can produce annimation."
     ]
    },
    {
     "cell_type": "code",
     "collapsed": false,
     "input": [
      "import uuid\n",
      "from IPython.display import HTML, Javascript, display\n",
      "\n",
      "divid = str(uuid.uuid4())\n",
      "\n",
      "html_progress=\"\"\"\n",
      "<p style=\"margin:5px\">FilterName:</p>\n",
      "<div style=\"border: 1px solid black;padding:1px;margin:5px\">\n",
      "  <div id=\"{0}\" style=\"background-color:blue; width:0%%\">&nbsp;</div>\n",
      "</div>\n",
      "\"\"\".format(divid)\n",
      "\n",
      "def command_js_progress(processObject):\n",
      "    p = processObject.GetProgress()\n",
      "    display(Javascript(\"$('div#%s').width('%i%%')\" % (divid, int(p*100))))"
     ],
     "language": "python",
     "metadata": {},
     "outputs": [],
     "prompt_number": 14
    },
    {
     "cell_type": "code",
     "collapsed": false,
     "input": [
      "gFilter.RemoveAllCommands()\n",
      "gFilter.AddCommand(sitk.sitkStartEvent, lambda:  display(HTML(html_progress)))\n",
      "gFilter.AddCommand(sitk.sitkProgressEvent, lambda: command_js_progress(gFilter))\n",
      "\n",
      "gFilter.Execute(img)"
     ],
     "language": "python",
     "metadata": {},
     "outputs": [
      {
       "html": [
        "\n",
        "<p style=\"margin:5px\">FilterName:</p>\n",
        "<div style=\"border: 1px solid black;padding:1px;margin:5px\">\n",
        "  <div id=\"21587e3b-af9a-482a-8ad6-520b8df27a08\" style=\"background-color:blue; width:0%%\">&nbsp;</div>\n",
        "</div>\n"
       ],
       "metadata": {},
       "output_type": "display_data",
       "text": [
        "<IPython.core.display.HTML at 0x11b15a110>"
       ]
      },
      {
       "javascript": [
        "$('div#21587e3b-af9a-482a-8ad6-520b8df27a08').width('0%')"
       ],
       "metadata": {},
       "output_type": "display_data",
       "text": [
        "<IPython.core.display.Javascript at 0x11b147cd0>"
       ]
      },
      {
       "javascript": [
        "$('div#21587e3b-af9a-482a-8ad6-520b8df27a08').width('0%')"
       ],
       "metadata": {},
       "output_type": "display_data",
       "text": [
        "<IPython.core.display.Javascript at 0x11b147cd0>"
       ]
      },
      {
       "javascript": [
        "$('div#21587e3b-af9a-482a-8ad6-520b8df27a08').width('0%')"
       ],
       "metadata": {},
       "output_type": "display_data",
       "text": [
        "<IPython.core.display.Javascript at 0x11b147cd0>"
       ]
      },
      {
       "javascript": [
        "$('div#21587e3b-af9a-482a-8ad6-520b8df27a08').width('0%')"
       ],
       "metadata": {},
       "output_type": "display_data",
       "text": [
        "<IPython.core.display.Javascript at 0x11b147cd0>"
       ]
      },
      {
       "javascript": [
        "$('div#21587e3b-af9a-482a-8ad6-520b8df27a08').width('1%')"
       ],
       "metadata": {},
       "output_type": "display_data",
       "text": [
        "<IPython.core.display.Javascript at 0x11b147cd0>"
       ]
      },
      {
       "javascript": [
        "$('div#21587e3b-af9a-482a-8ad6-520b8df27a08').width('1%')"
       ],
       "metadata": {},
       "output_type": "display_data",
       "text": [
        "<IPython.core.display.Javascript at 0x11b147cd0>"
       ]
      },
      {
       "javascript": [
        "$('div#21587e3b-af9a-482a-8ad6-520b8df27a08').width('1%')"
       ],
       "metadata": {},
       "output_type": "display_data",
       "text": [
        "<IPython.core.display.Javascript at 0x11b147cd0>"
       ]
      },
      {
       "javascript": [
        "$('div#21587e3b-af9a-482a-8ad6-520b8df27a08').width('2%')"
       ],
       "metadata": {},
       "output_type": "display_data",
       "text": [
        "<IPython.core.display.Javascript at 0x11b147cd0>"
       ]
      },
      {
       "javascript": [
        "$('div#21587e3b-af9a-482a-8ad6-520b8df27a08').width('2%')"
       ],
       "metadata": {},
       "output_type": "display_data",
       "text": [
        "<IPython.core.display.Javascript at 0x11b147cd0>"
       ]
      },
      {
       "javascript": [
        "$('div#21587e3b-af9a-482a-8ad6-520b8df27a08').width('2%')"
       ],
       "metadata": {},
       "output_type": "display_data",
       "text": [
        "<IPython.core.display.Javascript at 0x11b147cd0>"
       ]
      },
      {
       "javascript": [
        "$('div#21587e3b-af9a-482a-8ad6-520b8df27a08').width('3%')"
       ],
       "metadata": {},
       "output_type": "display_data",
       "text": [
        "<IPython.core.display.Javascript at 0x11b147cd0>"
       ]
      },
      {
       "javascript": [
        "$('div#21587e3b-af9a-482a-8ad6-520b8df27a08').width('3%')"
       ],
       "metadata": {},
       "output_type": "display_data",
       "text": [
        "<IPython.core.display.Javascript at 0x11b147cd0>"
       ]
      },
      {
       "javascript": [
        "$('div#21587e3b-af9a-482a-8ad6-520b8df27a08').width('3%')"
       ],
       "metadata": {},
       "output_type": "display_data",
       "text": [
        "<IPython.core.display.Javascript at 0x11b147cd0>"
       ]
      },
      {
       "javascript": [
        "$('div#21587e3b-af9a-482a-8ad6-520b8df27a08').width('3%')"
       ],
       "metadata": {},
       "output_type": "display_data",
       "text": [
        "<IPython.core.display.Javascript at 0x11b147cd0>"
       ]
      },
      {
       "javascript": [
        "$('div#21587e3b-af9a-482a-8ad6-520b8df27a08').width('3%')"
       ],
       "metadata": {},
       "output_type": "display_data",
       "text": [
        "<IPython.core.display.Javascript at 0x11b147cd0>"
       ]
      },
      {
       "javascript": [
        "$('div#21587e3b-af9a-482a-8ad6-520b8df27a08').width('4%')"
       ],
       "metadata": {},
       "output_type": "display_data",
       "text": [
        "<IPython.core.display.Javascript at 0x11b147cd0>"
       ]
      },
      {
       "javascript": [
        "$('div#21587e3b-af9a-482a-8ad6-520b8df27a08').width('4%')"
       ],
       "metadata": {},
       "output_type": "display_data",
       "text": [
        "<IPython.core.display.Javascript at 0x11b147cd0>"
       ]
      },
      {
       "javascript": [
        "$('div#21587e3b-af9a-482a-8ad6-520b8df27a08').width('4%')"
       ],
       "metadata": {},
       "output_type": "display_data",
       "text": [
        "<IPython.core.display.Javascript at 0x11b147cd0>"
       ]
      },
      {
       "javascript": [
        "$('div#21587e3b-af9a-482a-8ad6-520b8df27a08').width('5%')"
       ],
       "metadata": {},
       "output_type": "display_data",
       "text": [
        "<IPython.core.display.Javascript at 0x11b147cd0>"
       ]
      },
      {
       "javascript": [
        "$('div#21587e3b-af9a-482a-8ad6-520b8df27a08').width('5%')"
       ],
       "metadata": {},
       "output_type": "display_data",
       "text": [
        "<IPython.core.display.Javascript at 0x11b147cd0>"
       ]
      },
      {
       "javascript": [
        "$('div#21587e3b-af9a-482a-8ad6-520b8df27a08').width('6%')"
       ],
       "metadata": {},
       "output_type": "display_data",
       "text": [
        "<IPython.core.display.Javascript at 0x11b147cd0>"
       ]
      },
      {
       "javascript": [
        "$('div#21587e3b-af9a-482a-8ad6-520b8df27a08').width('6%')"
       ],
       "metadata": {},
       "output_type": "display_data",
       "text": [
        "<IPython.core.display.Javascript at 0x11b147cd0>"
       ]
      },
      {
       "javascript": [
        "$('div#21587e3b-af9a-482a-8ad6-520b8df27a08').width('6%')"
       ],
       "metadata": {},
       "output_type": "display_data",
       "text": [
        "<IPython.core.display.Javascript at 0x11b147cd0>"
       ]
      },
      {
       "javascript": [
        "$('div#21587e3b-af9a-482a-8ad6-520b8df27a08').width('7%')"
       ],
       "metadata": {},
       "output_type": "display_data",
       "text": [
        "<IPython.core.display.Javascript at 0x11b147cd0>"
       ]
      },
      {
       "javascript": [
        "$('div#21587e3b-af9a-482a-8ad6-520b8df27a08').width('7%')"
       ],
       "metadata": {},
       "output_type": "display_data",
       "text": [
        "<IPython.core.display.Javascript at 0x11b147cd0>"
       ]
      },
      {
       "javascript": [
        "$('div#21587e3b-af9a-482a-8ad6-520b8df27a08').width('7%')"
       ],
       "metadata": {},
       "output_type": "display_data",
       "text": [
        "<IPython.core.display.Javascript at 0x11b147cd0>"
       ]
      },
      {
       "javascript": [
        "$('div#21587e3b-af9a-482a-8ad6-520b8df27a08').width('7%')"
       ],
       "metadata": {},
       "output_type": "display_data",
       "text": [
        "<IPython.core.display.Javascript at 0x11b147cd0>"
       ]
      },
      {
       "javascript": [
        "$('div#21587e3b-af9a-482a-8ad6-520b8df27a08').width('7%')"
       ],
       "metadata": {},
       "output_type": "display_data",
       "text": [
        "<IPython.core.display.Javascript at 0x11b147cd0>"
       ]
      },
      {
       "javascript": [
        "$('div#21587e3b-af9a-482a-8ad6-520b8df27a08').width('8%')"
       ],
       "metadata": {},
       "output_type": "display_data",
       "text": [
        "<IPython.core.display.Javascript at 0x11b147cd0>"
       ]
      },
      {
       "javascript": [
        "$('div#21587e3b-af9a-482a-8ad6-520b8df27a08').width('8%')"
       ],
       "metadata": {},
       "output_type": "display_data",
       "text": [
        "<IPython.core.display.Javascript at 0x11b147cd0>"
       ]
      },
      {
       "javascript": [
        "$('div#21587e3b-af9a-482a-8ad6-520b8df27a08').width('8%')"
       ],
       "metadata": {},
       "output_type": "display_data",
       "text": [
        "<IPython.core.display.Javascript at 0x11b147cd0>"
       ]
      },
      {
       "javascript": [
        "$('div#21587e3b-af9a-482a-8ad6-520b8df27a08').width('9%')"
       ],
       "metadata": {},
       "output_type": "display_data",
       "text": [
        "<IPython.core.display.Javascript at 0x11b147cd0>"
       ]
      },
      {
       "javascript": [
        "$('div#21587e3b-af9a-482a-8ad6-520b8df27a08').width('9%')"
       ],
       "metadata": {},
       "output_type": "display_data",
       "text": [
        "<IPython.core.display.Javascript at 0x11b147cd0>"
       ]
      },
      {
       "javascript": [
        "$('div#21587e3b-af9a-482a-8ad6-520b8df27a08').width('9%')"
       ],
       "metadata": {},
       "output_type": "display_data",
       "text": [
        "<IPython.core.display.Javascript at 0x11b147cd0>"
       ]
      },
      {
       "javascript": [
        "$('div#21587e3b-af9a-482a-8ad6-520b8df27a08').width('10%')"
       ],
       "metadata": {},
       "output_type": "display_data",
       "text": [
        "<IPython.core.display.Javascript at 0x11b147cd0>"
       ]
      },
      {
       "javascript": [
        "$('div#21587e3b-af9a-482a-8ad6-520b8df27a08').width('10%')"
       ],
       "metadata": {},
       "output_type": "display_data",
       "text": [
        "<IPython.core.display.Javascript at 0x11b147cd0>"
       ]
      },
      {
       "javascript": [
        "$('div#21587e3b-af9a-482a-8ad6-520b8df27a08').width('10%')"
       ],
       "metadata": {},
       "output_type": "display_data",
       "text": [
        "<IPython.core.display.Javascript at 0x11b147cd0>"
       ]
      },
      {
       "javascript": [
        "$('div#21587e3b-af9a-482a-8ad6-520b8df27a08').width('10%')"
       ],
       "metadata": {},
       "output_type": "display_data",
       "text": [
        "<IPython.core.display.Javascript at 0x11b147cd0>"
       ]
      },
      {
       "javascript": [
        "$('div#21587e3b-af9a-482a-8ad6-520b8df27a08').width('10%')"
       ],
       "metadata": {},
       "output_type": "display_data",
       "text": [
        "<IPython.core.display.Javascript at 0x11b147cd0>"
       ]
      },
      {
       "javascript": [
        "$('div#21587e3b-af9a-482a-8ad6-520b8df27a08').width('11%')"
       ],
       "metadata": {},
       "output_type": "display_data",
       "text": [
        "<IPython.core.display.Javascript at 0x11b147cd0>"
       ]
      },
      {
       "javascript": [
        "$('div#21587e3b-af9a-482a-8ad6-520b8df27a08').width('11%')"
       ],
       "metadata": {},
       "output_type": "display_data",
       "text": [
        "<IPython.core.display.Javascript at 0x11b147cd0>"
       ]
      },
      {
       "javascript": [
        "$('div#21587e3b-af9a-482a-8ad6-520b8df27a08').width('11%')"
       ],
       "metadata": {},
       "output_type": "display_data",
       "text": [
        "<IPython.core.display.Javascript at 0x11b147cd0>"
       ]
      },
      {
       "javascript": [
        "$('div#21587e3b-af9a-482a-8ad6-520b8df27a08').width('12%')"
       ],
       "metadata": {},
       "output_type": "display_data",
       "text": [
        "<IPython.core.display.Javascript at 0x11b147cd0>"
       ]
      },
      {
       "javascript": [
        "$('div#21587e3b-af9a-482a-8ad6-520b8df27a08').width('12%')"
       ],
       "metadata": {},
       "output_type": "display_data",
       "text": [
        "<IPython.core.display.Javascript at 0x11b147cd0>"
       ]
      },
      {
       "javascript": [
        "$('div#21587e3b-af9a-482a-8ad6-520b8df27a08').width('12%')"
       ],
       "metadata": {},
       "output_type": "display_data",
       "text": [
        "<IPython.core.display.Javascript at 0x11b147cd0>"
       ]
      },
      {
       "javascript": [
        "$('div#21587e3b-af9a-482a-8ad6-520b8df27a08').width('13%')"
       ],
       "metadata": {},
       "output_type": "display_data",
       "text": [
        "<IPython.core.display.Javascript at 0x11b147cd0>"
       ]
      },
      {
       "javascript": [
        "$('div#21587e3b-af9a-482a-8ad6-520b8df27a08').width('13%')"
       ],
       "metadata": {},
       "output_type": "display_data",
       "text": [
        "<IPython.core.display.Javascript at 0x11b147cd0>"
       ]
      },
      {
       "javascript": [
        "$('div#21587e3b-af9a-482a-8ad6-520b8df27a08').width('13%')"
       ],
       "metadata": {},
       "output_type": "display_data",
       "text": [
        "<IPython.core.display.Javascript at 0x11b147cd0>"
       ]
      },
      {
       "javascript": [
        "$('div#21587e3b-af9a-482a-8ad6-520b8df27a08').width('14%')"
       ],
       "metadata": {},
       "output_type": "display_data",
       "text": [
        "<IPython.core.display.Javascript at 0x11b147cd0>"
       ]
      },
      {
       "javascript": [
        "$('div#21587e3b-af9a-482a-8ad6-520b8df27a08').width('14%')"
       ],
       "metadata": {},
       "output_type": "display_data",
       "text": [
        "<IPython.core.display.Javascript at 0x11b147cd0>"
       ]
      },
      {
       "javascript": [
        "$('div#21587e3b-af9a-482a-8ad6-520b8df27a08').width('14%')"
       ],
       "metadata": {},
       "output_type": "display_data",
       "text": [
        "<IPython.core.display.Javascript at 0x11b147cd0>"
       ]
      },
      {
       "javascript": [
        "$('div#21587e3b-af9a-482a-8ad6-520b8df27a08').width('14%')"
       ],
       "metadata": {},
       "output_type": "display_data",
       "text": [
        "<IPython.core.display.Javascript at 0x11b147cd0>"
       ]
      },
      {
       "javascript": [
        "$('div#21587e3b-af9a-482a-8ad6-520b8df27a08').width('14%')"
       ],
       "metadata": {},
       "output_type": "display_data",
       "text": [
        "<IPython.core.display.Javascript at 0x11b147cd0>"
       ]
      },
      {
       "javascript": [
        "$('div#21587e3b-af9a-482a-8ad6-520b8df27a08').width('15%')"
       ],
       "metadata": {},
       "output_type": "display_data",
       "text": [
        "<IPython.core.display.Javascript at 0x11b147cd0>"
       ]
      },
      {
       "javascript": [
        "$('div#21587e3b-af9a-482a-8ad6-520b8df27a08').width('15%')"
       ],
       "metadata": {},
       "output_type": "display_data",
       "text": [
        "<IPython.core.display.Javascript at 0x11b147cd0>"
       ]
      },
      {
       "javascript": [
        "$('div#21587e3b-af9a-482a-8ad6-520b8df27a08').width('16%')"
       ],
       "metadata": {},
       "output_type": "display_data",
       "text": [
        "<IPython.core.display.Javascript at 0x11b147cd0>"
       ]
      },
      {
       "javascript": [
        "$('div#21587e3b-af9a-482a-8ad6-520b8df27a08').width('16%')"
       ],
       "metadata": {},
       "output_type": "display_data",
       "text": [
        "<IPython.core.display.Javascript at 0x11b147cd0>"
       ]
      },
      {
       "javascript": [
        "$('div#21587e3b-af9a-482a-8ad6-520b8df27a08').width('16%')"
       ],
       "metadata": {},
       "output_type": "display_data",
       "text": [
        "<IPython.core.display.Javascript at 0x11b147cd0>"
       ]
      },
      {
       "javascript": [
        "$('div#21587e3b-af9a-482a-8ad6-520b8df27a08').width('17%')"
       ],
       "metadata": {},
       "output_type": "display_data",
       "text": [
        "<IPython.core.display.Javascript at 0x11b147cd0>"
       ]
      },
      {
       "javascript": [
        "$('div#21587e3b-af9a-482a-8ad6-520b8df27a08').width('17%')"
       ],
       "metadata": {},
       "output_type": "display_data",
       "text": [
        "<IPython.core.display.Javascript at 0x11b147cd0>"
       ]
      },
      {
       "javascript": [
        "$('div#21587e3b-af9a-482a-8ad6-520b8df27a08').width('17%')"
       ],
       "metadata": {},
       "output_type": "display_data",
       "text": [
        "<IPython.core.display.Javascript at 0x11b147cd0>"
       ]
      },
      {
       "javascript": [
        "$('div#21587e3b-af9a-482a-8ad6-520b8df27a08').width('17%')"
       ],
       "metadata": {},
       "output_type": "display_data",
       "text": [
        "<IPython.core.display.Javascript at 0x11b147cd0>"
       ]
      },
      {
       "javascript": [
        "$('div#21587e3b-af9a-482a-8ad6-520b8df27a08').width('17%')"
       ],
       "metadata": {},
       "output_type": "display_data",
       "text": [
        "<IPython.core.display.Javascript at 0x11b147cd0>"
       ]
      },
      {
       "javascript": [
        "$('div#21587e3b-af9a-482a-8ad6-520b8df27a08').width('18%')"
       ],
       "metadata": {},
       "output_type": "display_data",
       "text": [
        "<IPython.core.display.Javascript at 0x11b147cd0>"
       ]
      },
      {
       "javascript": [
        "$('div#21587e3b-af9a-482a-8ad6-520b8df27a08').width('18%')"
       ],
       "metadata": {},
       "output_type": "display_data",
       "text": [
        "<IPython.core.display.Javascript at 0x11b147cd0>"
       ]
      },
      {
       "javascript": [
        "$('div#21587e3b-af9a-482a-8ad6-520b8df27a08').width('18%')"
       ],
       "metadata": {},
       "output_type": "display_data",
       "text": [
        "<IPython.core.display.Javascript at 0x11b147cd0>"
       ]
      },
      {
       "javascript": [
        "$('div#21587e3b-af9a-482a-8ad6-520b8df27a08').width('19%')"
       ],
       "metadata": {},
       "output_type": "display_data",
       "text": [
        "<IPython.core.display.Javascript at 0x11b147cd0>"
       ]
      },
      {
       "javascript": [
        "$('div#21587e3b-af9a-482a-8ad6-520b8df27a08').width('19%')"
       ],
       "metadata": {},
       "output_type": "display_data",
       "text": [
        "<IPython.core.display.Javascript at 0x11b147cd0>"
       ]
      },
      {
       "javascript": [
        "$('div#21587e3b-af9a-482a-8ad6-520b8df27a08').width('19%')"
       ],
       "metadata": {},
       "output_type": "display_data",
       "text": [
        "<IPython.core.display.Javascript at 0x11b147cd0>"
       ]
      },
      {
       "javascript": [
        "$('div#21587e3b-af9a-482a-8ad6-520b8df27a08').width('20%')"
       ],
       "metadata": {},
       "output_type": "display_data",
       "text": [
        "<IPython.core.display.Javascript at 0x11b147cd0>"
       ]
      },
      {
       "javascript": [
        "$('div#21587e3b-af9a-482a-8ad6-520b8df27a08').width('20%')"
       ],
       "metadata": {},
       "output_type": "display_data",
       "text": [
        "<IPython.core.display.Javascript at 0x11b147cd0>"
       ]
      },
      {
       "javascript": [
        "$('div#21587e3b-af9a-482a-8ad6-520b8df27a08').width('21%')"
       ],
       "metadata": {},
       "output_type": "display_data",
       "text": [
        "<IPython.core.display.Javascript at 0x11b147cd0>"
       ]
      },
      {
       "javascript": [
        "$('div#21587e3b-af9a-482a-8ad6-520b8df27a08').width('21%')"
       ],
       "metadata": {},
       "output_type": "display_data",
       "text": [
        "<IPython.core.display.Javascript at 0x11b147cd0>"
       ]
      },
      {
       "javascript": [
        "$('div#21587e3b-af9a-482a-8ad6-520b8df27a08').width('21%')"
       ],
       "metadata": {},
       "output_type": "display_data",
       "text": [
        "<IPython.core.display.Javascript at 0x11b147cd0>"
       ]
      },
      {
       "javascript": [
        "$('div#21587e3b-af9a-482a-8ad6-520b8df27a08').width('21%')"
       ],
       "metadata": {},
       "output_type": "display_data",
       "text": [
        "<IPython.core.display.Javascript at 0x11b147cd0>"
       ]
      },
      {
       "javascript": [
        "$('div#21587e3b-af9a-482a-8ad6-520b8df27a08').width('21%')"
       ],
       "metadata": {},
       "output_type": "display_data",
       "text": [
        "<IPython.core.display.Javascript at 0x11b147cd0>"
       ]
      },
      {
       "javascript": [
        "$('div#21587e3b-af9a-482a-8ad6-520b8df27a08').width('22%')"
       ],
       "metadata": {},
       "output_type": "display_data",
       "text": [
        "<IPython.core.display.Javascript at 0x11b147cd0>"
       ]
      },
      {
       "javascript": [
        "$('div#21587e3b-af9a-482a-8ad6-520b8df27a08').width('22%')"
       ],
       "metadata": {},
       "output_type": "display_data",
       "text": [
        "<IPython.core.display.Javascript at 0x11b147cd0>"
       ]
      },
      {
       "javascript": [
        "$('div#21587e3b-af9a-482a-8ad6-520b8df27a08').width('22%')"
       ],
       "metadata": {},
       "output_type": "display_data",
       "text": [
        "<IPython.core.display.Javascript at 0x11b147cd0>"
       ]
      },
      {
       "javascript": [
        "$('div#21587e3b-af9a-482a-8ad6-520b8df27a08').width('23%')"
       ],
       "metadata": {},
       "output_type": "display_data",
       "text": [
        "<IPython.core.display.Javascript at 0x11b147cd0>"
       ]
      },
      {
       "javascript": [
        "$('div#21587e3b-af9a-482a-8ad6-520b8df27a08').width('23%')"
       ],
       "metadata": {},
       "output_type": "display_data",
       "text": [
        "<IPython.core.display.Javascript at 0x11b147cd0>"
       ]
      },
      {
       "javascript": [
        "$('div#21587e3b-af9a-482a-8ad6-520b8df27a08').width('23%')"
       ],
       "metadata": {},
       "output_type": "display_data",
       "text": [
        "<IPython.core.display.Javascript at 0x11b147cd0>"
       ]
      },
      {
       "javascript": [
        "$('div#21587e3b-af9a-482a-8ad6-520b8df27a08').width('24%')"
       ],
       "metadata": {},
       "output_type": "display_data",
       "text": [
        "<IPython.core.display.Javascript at 0x11b147cd0>"
       ]
      },
      {
       "javascript": [
        "$('div#21587e3b-af9a-482a-8ad6-520b8df27a08').width('24%')"
       ],
       "metadata": {},
       "output_type": "display_data",
       "text": [
        "<IPython.core.display.Javascript at 0x11b147cd0>"
       ]
      },
      {
       "javascript": [
        "$('div#21587e3b-af9a-482a-8ad6-520b8df27a08').width('25%')"
       ],
       "metadata": {},
       "output_type": "display_data",
       "text": [
        "<IPython.core.display.Javascript at 0x11b147cd0>"
       ]
      },
      {
       "javascript": [
        "$('div#21587e3b-af9a-482a-8ad6-520b8df27a08').width('25%')"
       ],
       "metadata": {},
       "output_type": "display_data",
       "text": [
        "<IPython.core.display.Javascript at 0x11b147cd0>"
       ]
      },
      {
       "javascript": [
        "$('div#21587e3b-af9a-482a-8ad6-520b8df27a08').width('25%')"
       ],
       "metadata": {},
       "output_type": "display_data",
       "text": [
        "<IPython.core.display.Javascript at 0x11b147cd0>"
       ]
      },
      {
       "javascript": [
        "$('div#21587e3b-af9a-482a-8ad6-520b8df27a08').width('25%')"
       ],
       "metadata": {},
       "output_type": "display_data",
       "text": [
        "<IPython.core.display.Javascript at 0x11b147cd0>"
       ]
      },
      {
       "javascript": [
        "$('div#21587e3b-af9a-482a-8ad6-520b8df27a08').width('25%')"
       ],
       "metadata": {},
       "output_type": "display_data",
       "text": [
        "<IPython.core.display.Javascript at 0x11b147cd0>"
       ]
      },
      {
       "javascript": [
        "$('div#21587e3b-af9a-482a-8ad6-520b8df27a08').width('26%')"
       ],
       "metadata": {},
       "output_type": "display_data",
       "text": [
        "<IPython.core.display.Javascript at 0x11b147cd0>"
       ]
      },
      {
       "javascript": [
        "$('div#21587e3b-af9a-482a-8ad6-520b8df27a08').width('26%')"
       ],
       "metadata": {},
       "output_type": "display_data",
       "text": [
        "<IPython.core.display.Javascript at 0x11b147cd0>"
       ]
      },
      {
       "javascript": [
        "$('div#21587e3b-af9a-482a-8ad6-520b8df27a08').width('26%')"
       ],
       "metadata": {},
       "output_type": "display_data",
       "text": [
        "<IPython.core.display.Javascript at 0x11b147cd0>"
       ]
      },
      {
       "javascript": [
        "$('div#21587e3b-af9a-482a-8ad6-520b8df27a08').width('27%')"
       ],
       "metadata": {},
       "output_type": "display_data",
       "text": [
        "<IPython.core.display.Javascript at 0x11b147cd0>"
       ]
      },
      {
       "javascript": [
        "$('div#21587e3b-af9a-482a-8ad6-520b8df27a08').width('27%')"
       ],
       "metadata": {},
       "output_type": "display_data",
       "text": [
        "<IPython.core.display.Javascript at 0x11b147cd0>"
       ]
      },
      {
       "javascript": [
        "$('div#21587e3b-af9a-482a-8ad6-520b8df27a08').width('27%')"
       ],
       "metadata": {},
       "output_type": "display_data",
       "text": [
        "<IPython.core.display.Javascript at 0x11b147cd0>"
       ]
      },
      {
       "javascript": [
        "$('div#21587e3b-af9a-482a-8ad6-520b8df27a08').width('28%')"
       ],
       "metadata": {},
       "output_type": "display_data",
       "text": [
        "<IPython.core.display.Javascript at 0x11b147cd0>"
       ]
      },
      {
       "javascript": [
        "$('div#21587e3b-af9a-482a-8ad6-520b8df27a08').width('28%')"
       ],
       "metadata": {},
       "output_type": "display_data",
       "text": [
        "<IPython.core.display.Javascript at 0x11b147cd0>"
       ]
      },
      {
       "javascript": [
        "$('div#21587e3b-af9a-482a-8ad6-520b8df27a08').width('28%')"
       ],
       "metadata": {},
       "output_type": "display_data",
       "text": [
        "<IPython.core.display.Javascript at 0x11b147cd0>"
       ]
      },
      {
       "javascript": [
        "$('div#21587e3b-af9a-482a-8ad6-520b8df27a08').width('28%')"
       ],
       "metadata": {},
       "output_type": "display_data",
       "text": [
        "<IPython.core.display.Javascript at 0x11b147cd0>"
       ]
      },
      {
       "javascript": [
        "$('div#21587e3b-af9a-482a-8ad6-520b8df27a08').width('28%')"
       ],
       "metadata": {},
       "output_type": "display_data",
       "text": [
        "<IPython.core.display.Javascript at 0x11b147cd0>"
       ]
      },
      {
       "javascript": [
        "$('div#21587e3b-af9a-482a-8ad6-520b8df27a08').width('29%')"
       ],
       "metadata": {},
       "output_type": "display_data",
       "text": [
        "<IPython.core.display.Javascript at 0x11b147cd0>"
       ]
      },
      {
       "javascript": [
        "$('div#21587e3b-af9a-482a-8ad6-520b8df27a08').width('29%')"
       ],
       "metadata": {},
       "output_type": "display_data",
       "text": [
        "<IPython.core.display.Javascript at 0x11b147cd0>"
       ]
      },
      {
       "javascript": [
        "$('div#21587e3b-af9a-482a-8ad6-520b8df27a08').width('30%')"
       ],
       "metadata": {},
       "output_type": "display_data",
       "text": [
        "<IPython.core.display.Javascript at 0x11b147cd0>"
       ]
      },
      {
       "javascript": [
        "$('div#21587e3b-af9a-482a-8ad6-520b8df27a08').width('30%')"
       ],
       "metadata": {},
       "output_type": "display_data",
       "text": [
        "<IPython.core.display.Javascript at 0x11b147cd0>"
       ]
      },
      {
       "javascript": [
        "$('div#21587e3b-af9a-482a-8ad6-520b8df27a08').width('30%')"
       ],
       "metadata": {},
       "output_type": "display_data",
       "text": [
        "<IPython.core.display.Javascript at 0x11b147cd0>"
       ]
      },
      {
       "javascript": [
        "$('div#21587e3b-af9a-482a-8ad6-520b8df27a08').width('31%')"
       ],
       "metadata": {},
       "output_type": "display_data",
       "text": [
        "<IPython.core.display.Javascript at 0x11b147cd0>"
       ]
      },
      {
       "javascript": [
        "$('div#21587e3b-af9a-482a-8ad6-520b8df27a08').width('31%')"
       ],
       "metadata": {},
       "output_type": "display_data",
       "text": [
        "<IPython.core.display.Javascript at 0x11b147cd0>"
       ]
      },
      {
       "javascript": [
        "$('div#21587e3b-af9a-482a-8ad6-520b8df27a08').width('31%')"
       ],
       "metadata": {},
       "output_type": "display_data",
       "text": [
        "<IPython.core.display.Javascript at 0x11b147cd0>"
       ]
      },
      {
       "javascript": [
        "$('div#21587e3b-af9a-482a-8ad6-520b8df27a08').width('32%')"
       ],
       "metadata": {},
       "output_type": "display_data",
       "text": [
        "<IPython.core.display.Javascript at 0x11b147cd0>"
       ]
      },
      {
       "javascript": [
        "$('div#21587e3b-af9a-482a-8ad6-520b8df27a08').width('32%')"
       ],
       "metadata": {},
       "output_type": "display_data",
       "text": [
        "<IPython.core.display.Javascript at 0x11b147cd0>"
       ]
      },
      {
       "javascript": [
        "$('div#21587e3b-af9a-482a-8ad6-520b8df27a08').width('32%')"
       ],
       "metadata": {},
       "output_type": "display_data",
       "text": [
        "<IPython.core.display.Javascript at 0x11b147cd0>"
       ]
      },
      {
       "javascript": [
        "$('div#21587e3b-af9a-482a-8ad6-520b8df27a08').width('32%')"
       ],
       "metadata": {},
       "output_type": "display_data",
       "text": [
        "<IPython.core.display.Javascript at 0x11b147cd0>"
       ]
      },
      {
       "javascript": [
        "$('div#21587e3b-af9a-482a-8ad6-520b8df27a08').width('32%')"
       ],
       "metadata": {},
       "output_type": "display_data",
       "text": [
        "<IPython.core.display.Javascript at 0x11b147cd0>"
       ]
      },
      {
       "javascript": [
        "$('div#21587e3b-af9a-482a-8ad6-520b8df27a08').width('33%')"
       ],
       "metadata": {},
       "output_type": "display_data",
       "text": [
        "<IPython.core.display.Javascript at 0x11b147cd0>"
       ]
      },
      {
       "javascript": [
        "$('div#21587e3b-af9a-482a-8ad6-520b8df27a08').width('33%')"
       ],
       "metadata": {},
       "output_type": "display_data",
       "text": [
        "<IPython.core.display.Javascript at 0x11b147cd0>"
       ]
      },
      {
       "javascript": [
        "$('div#21587e3b-af9a-482a-8ad6-520b8df27a08').width('34%')"
       ],
       "metadata": {},
       "output_type": "display_data",
       "text": [
        "<IPython.core.display.Javascript at 0x11b147cd0>"
       ]
      },
      {
       "javascript": [
        "$('div#21587e3b-af9a-482a-8ad6-520b8df27a08').width('34%')"
       ],
       "metadata": {},
       "output_type": "display_data",
       "text": [
        "<IPython.core.display.Javascript at 0x11b147cd0>"
       ]
      },
      {
       "javascript": [
        "$('div#21587e3b-af9a-482a-8ad6-520b8df27a08').width('34%')"
       ],
       "metadata": {},
       "output_type": "display_data",
       "text": [
        "<IPython.core.display.Javascript at 0x11b147cd0>"
       ]
      },
      {
       "javascript": [
        "$('div#21587e3b-af9a-482a-8ad6-520b8df27a08').width('35%')"
       ],
       "metadata": {},
       "output_type": "display_data",
       "text": [
        "<IPython.core.display.Javascript at 0x11b147cd0>"
       ]
      },
      {
       "javascript": [
        "$('div#21587e3b-af9a-482a-8ad6-520b8df27a08').width('35%')"
       ],
       "metadata": {},
       "output_type": "display_data",
       "text": [
        "<IPython.core.display.Javascript at 0x11b147cd0>"
       ]
      },
      {
       "javascript": [
        "$('div#21587e3b-af9a-482a-8ad6-520b8df27a08').width('35%')"
       ],
       "metadata": {},
       "output_type": "display_data",
       "text": [
        "<IPython.core.display.Javascript at 0x11b147cd0>"
       ]
      },
      {
       "javascript": [
        "$('div#21587e3b-af9a-482a-8ad6-520b8df27a08').width('36%')"
       ],
       "metadata": {},
       "output_type": "display_data",
       "text": [
        "<IPython.core.display.Javascript at 0x11b147cd0>"
       ]
      },
      {
       "javascript": [
        "$('div#21587e3b-af9a-482a-8ad6-520b8df27a08').width('36%')"
       ],
       "metadata": {},
       "output_type": "display_data",
       "text": [
        "<IPython.core.display.Javascript at 0x11b147cd0>"
       ]
      },
      {
       "javascript": [
        "$('div#21587e3b-af9a-482a-8ad6-520b8df27a08').width('36%')"
       ],
       "metadata": {},
       "output_type": "display_data",
       "text": [
        "<IPython.core.display.Javascript at 0x11b147cd0>"
       ]
      },
      {
       "javascript": [
        "$('div#21587e3b-af9a-482a-8ad6-520b8df27a08').width('36%')"
       ],
       "metadata": {},
       "output_type": "display_data",
       "text": [
        "<IPython.core.display.Javascript at 0x11b147cd0>"
       ]
      },
      {
       "javascript": [
        "$('div#21587e3b-af9a-482a-8ad6-520b8df27a08').width('36%')"
       ],
       "metadata": {},
       "output_type": "display_data",
       "text": [
        "<IPython.core.display.Javascript at 0x11b147cd0>"
       ]
      },
      {
       "javascript": [
        "$('div#21587e3b-af9a-482a-8ad6-520b8df27a08').width('37%')"
       ],
       "metadata": {},
       "output_type": "display_data",
       "text": [
        "<IPython.core.display.Javascript at 0x11b147cd0>"
       ]
      },
      {
       "javascript": [
        "$('div#21587e3b-af9a-482a-8ad6-520b8df27a08').width('37%')"
       ],
       "metadata": {},
       "output_type": "display_data",
       "text": [
        "<IPython.core.display.Javascript at 0x11b147cd0>"
       ]
      },
      {
       "javascript": [
        "$('div#21587e3b-af9a-482a-8ad6-520b8df27a08').width('37%')"
       ],
       "metadata": {},
       "output_type": "display_data",
       "text": [
        "<IPython.core.display.Javascript at 0x11b147cd0>"
       ]
      },
      {
       "javascript": [
        "$('div#21587e3b-af9a-482a-8ad6-520b8df27a08').width('38%')"
       ],
       "metadata": {},
       "output_type": "display_data",
       "text": [
        "<IPython.core.display.Javascript at 0x11b147cd0>"
       ]
      },
      {
       "javascript": [
        "$('div#21587e3b-af9a-482a-8ad6-520b8df27a08').width('38%')"
       ],
       "metadata": {},
       "output_type": "display_data",
       "text": [
        "<IPython.core.display.Javascript at 0x11b147cd0>"
       ]
      },
      {
       "javascript": [
        "$('div#21587e3b-af9a-482a-8ad6-520b8df27a08').width('39%')"
       ],
       "metadata": {},
       "output_type": "display_data",
       "text": [
        "<IPython.core.display.Javascript at 0x11b147cd0>"
       ]
      },
      {
       "javascript": [
        "$('div#21587e3b-af9a-482a-8ad6-520b8df27a08').width('39%')"
       ],
       "metadata": {},
       "output_type": "display_data",
       "text": [
        "<IPython.core.display.Javascript at 0x11b147cd0>"
       ]
      },
      {
       "javascript": [
        "$('div#21587e3b-af9a-482a-8ad6-520b8df27a08').width('39%')"
       ],
       "metadata": {},
       "output_type": "display_data",
       "text": [
        "<IPython.core.display.Javascript at 0x11b147cd0>"
       ]
      },
      {
       "javascript": [
        "$('div#21587e3b-af9a-482a-8ad6-520b8df27a08').width('40%')"
       ],
       "metadata": {},
       "output_type": "display_data",
       "text": [
        "<IPython.core.display.Javascript at 0x11b147cd0>"
       ]
      },
      {
       "javascript": [
        "$('div#21587e3b-af9a-482a-8ad6-520b8df27a08').width('40%')"
       ],
       "metadata": {},
       "output_type": "display_data",
       "text": [
        "<IPython.core.display.Javascript at 0x11b147cd0>"
       ]
      },
      {
       "javascript": [
        "$('div#21587e3b-af9a-482a-8ad6-520b8df27a08').width('40%')"
       ],
       "metadata": {},
       "output_type": "display_data",
       "text": [
        "<IPython.core.display.Javascript at 0x11b147cd0>"
       ]
      },
      {
       "javascript": [
        "$('div#21587e3b-af9a-482a-8ad6-520b8df27a08').width('40%')"
       ],
       "metadata": {},
       "output_type": "display_data",
       "text": [
        "<IPython.core.display.Javascript at 0x11b147cd0>"
       ]
      },
      {
       "javascript": [
        "$('div#21587e3b-af9a-482a-8ad6-520b8df27a08').width('40%')"
       ],
       "metadata": {},
       "output_type": "display_data",
       "text": [
        "<IPython.core.display.Javascript at 0x11b147cd0>"
       ]
      },
      {
       "javascript": [
        "$('div#21587e3b-af9a-482a-8ad6-520b8df27a08').width('41%')"
       ],
       "metadata": {},
       "output_type": "display_data",
       "text": [
        "<IPython.core.display.Javascript at 0x11b147cd0>"
       ]
      },
      {
       "javascript": [
        "$('div#21587e3b-af9a-482a-8ad6-520b8df27a08').width('41%')"
       ],
       "metadata": {},
       "output_type": "display_data",
       "text": [
        "<IPython.core.display.Javascript at 0x11b147cd0>"
       ]
      },
      {
       "javascript": [
        "$('div#21587e3b-af9a-482a-8ad6-520b8df27a08').width('41%')"
       ],
       "metadata": {},
       "output_type": "display_data",
       "text": [
        "<IPython.core.display.Javascript at 0x11b147cd0>"
       ]
      },
      {
       "javascript": [
        "$('div#21587e3b-af9a-482a-8ad6-520b8df27a08').width('42%')"
       ],
       "metadata": {},
       "output_type": "display_data",
       "text": [
        "<IPython.core.display.Javascript at 0x11b147cd0>"
       ]
      },
      {
       "javascript": [
        "$('div#21587e3b-af9a-482a-8ad6-520b8df27a08').width('42%')"
       ],
       "metadata": {},
       "output_type": "display_data",
       "text": [
        "<IPython.core.display.Javascript at 0x11b147cd0>"
       ]
      },
      {
       "javascript": [
        "$('div#21587e3b-af9a-482a-8ad6-520b8df27a08').width('42%')"
       ],
       "metadata": {},
       "output_type": "display_data",
       "text": [
        "<IPython.core.display.Javascript at 0x11b147cd0>"
       ]
      },
      {
       "javascript": [
        "$('div#21587e3b-af9a-482a-8ad6-520b8df27a08').width('43%')"
       ],
       "metadata": {},
       "output_type": "display_data",
       "text": [
        "<IPython.core.display.Javascript at 0x11b147cd0>"
       ]
      },
      {
       "javascript": [
        "$('div#21587e3b-af9a-482a-8ad6-520b8df27a08').width('43%')"
       ],
       "metadata": {},
       "output_type": "display_data",
       "text": [
        "<IPython.core.display.Javascript at 0x11b147cd0>"
       ]
      },
      {
       "javascript": [
        "$('div#21587e3b-af9a-482a-8ad6-520b8df27a08').width('43%')"
       ],
       "metadata": {},
       "output_type": "display_data",
       "text": [
        "<IPython.core.display.Javascript at 0x11b147cd0>"
       ]
      },
      {
       "javascript": [
        "$('div#21587e3b-af9a-482a-8ad6-520b8df27a08').width('44%')"
       ],
       "metadata": {},
       "output_type": "display_data",
       "text": [
        "<IPython.core.display.Javascript at 0x11b147cd0>"
       ]
      },
      {
       "javascript": [
        "$('div#21587e3b-af9a-482a-8ad6-520b8df27a08').width('44%')"
       ],
       "metadata": {},
       "output_type": "display_data",
       "text": [
        "<IPython.core.display.Javascript at 0x11b147cd0>"
       ]
      },
      {
       "javascript": [
        "$('div#21587e3b-af9a-482a-8ad6-520b8df27a08').width('44%')"
       ],
       "metadata": {},
       "output_type": "display_data",
       "text": [
        "<IPython.core.display.Javascript at 0x11b147cd0>"
       ]
      },
      {
       "javascript": [
        "$('div#21587e3b-af9a-482a-8ad6-520b8df27a08').width('44%')"
       ],
       "metadata": {},
       "output_type": "display_data",
       "text": [
        "<IPython.core.display.Javascript at 0x11b147cd0>"
       ]
      },
      {
       "javascript": [
        "$('div#21587e3b-af9a-482a-8ad6-520b8df27a08').width('45%')"
       ],
       "metadata": {},
       "output_type": "display_data",
       "text": [
        "<IPython.core.display.Javascript at 0x11b147cd0>"
       ]
      },
      {
       "javascript": [
        "$('div#21587e3b-af9a-482a-8ad6-520b8df27a08').width('45%')"
       ],
       "metadata": {},
       "output_type": "display_data",
       "text": [
        "<IPython.core.display.Javascript at 0x11b147cd0>"
       ]
      },
      {
       "javascript": [
        "$('div#21587e3b-af9a-482a-8ad6-520b8df27a08').width('45%')"
       ],
       "metadata": {},
       "output_type": "display_data",
       "text": [
        "<IPython.core.display.Javascript at 0x11b147cd0>"
       ]
      },
      {
       "javascript": [
        "$('div#21587e3b-af9a-482a-8ad6-520b8df27a08').width('46%')"
       ],
       "metadata": {},
       "output_type": "display_data",
       "text": [
        "<IPython.core.display.Javascript at 0x11b147cd0>"
       ]
      },
      {
       "javascript": [
        "$('div#21587e3b-af9a-482a-8ad6-520b8df27a08').width('46%')"
       ],
       "metadata": {},
       "output_type": "display_data",
       "text": [
        "<IPython.core.display.Javascript at 0x11b147cd0>"
       ]
      },
      {
       "javascript": [
        "$('div#21587e3b-af9a-482a-8ad6-520b8df27a08').width('46%')"
       ],
       "metadata": {},
       "output_type": "display_data",
       "text": [
        "<IPython.core.display.Javascript at 0x11b147cd0>"
       ]
      },
      {
       "javascript": [
        "$('div#21587e3b-af9a-482a-8ad6-520b8df27a08').width('47%')"
       ],
       "metadata": {},
       "output_type": "display_data",
       "text": [
        "<IPython.core.display.Javascript at 0x11b147cd0>"
       ]
      },
      {
       "javascript": [
        "$('div#21587e3b-af9a-482a-8ad6-520b8df27a08').width('47%')"
       ],
       "metadata": {},
       "output_type": "display_data",
       "text": [
        "<IPython.core.display.Javascript at 0x11b147cd0>"
       ]
      },
      {
       "javascript": [
        "$('div#21587e3b-af9a-482a-8ad6-520b8df27a08').width('47%')"
       ],
       "metadata": {},
       "output_type": "display_data",
       "text": [
        "<IPython.core.display.Javascript at 0x11b147cd0>"
       ]
      },
      {
       "javascript": [
        "$('div#21587e3b-af9a-482a-8ad6-520b8df27a08').width('47%')"
       ],
       "metadata": {},
       "output_type": "display_data",
       "text": [
        "<IPython.core.display.Javascript at 0x11b147cd0>"
       ]
      },
      {
       "javascript": [
        "$('div#21587e3b-af9a-482a-8ad6-520b8df27a08').width('47%')"
       ],
       "metadata": {},
       "output_type": "display_data",
       "text": [
        "<IPython.core.display.Javascript at 0x11b147cd0>"
       ]
      },
      {
       "javascript": [
        "$('div#21587e3b-af9a-482a-8ad6-520b8df27a08').width('48%')"
       ],
       "metadata": {},
       "output_type": "display_data",
       "text": [
        "<IPython.core.display.Javascript at 0x11b147cd0>"
       ]
      },
      {
       "javascript": [
        "$('div#21587e3b-af9a-482a-8ad6-520b8df27a08').width('48%')"
       ],
       "metadata": {},
       "output_type": "display_data",
       "text": [
        "<IPython.core.display.Javascript at 0x11b147cd0>"
       ]
      },
      {
       "javascript": [
        "$('div#21587e3b-af9a-482a-8ad6-520b8df27a08').width('49%')"
       ],
       "metadata": {},
       "output_type": "display_data",
       "text": [
        "<IPython.core.display.Javascript at 0x11b147cd0>"
       ]
      },
      {
       "javascript": [
        "$('div#21587e3b-af9a-482a-8ad6-520b8df27a08').width('49%')"
       ],
       "metadata": {},
       "output_type": "display_data",
       "text": [
        "<IPython.core.display.Javascript at 0x11b147cd0>"
       ]
      },
      {
       "javascript": [
        "$('div#21587e3b-af9a-482a-8ad6-520b8df27a08').width('49%')"
       ],
       "metadata": {},
       "output_type": "display_data",
       "text": [
        "<IPython.core.display.Javascript at 0x11b147cd0>"
       ]
      },
      {
       "javascript": [
        "$('div#21587e3b-af9a-482a-8ad6-520b8df27a08').width('50%')"
       ],
       "metadata": {},
       "output_type": "display_data",
       "text": [
        "<IPython.core.display.Javascript at 0x11b147cd0>"
       ]
      },
      {
       "javascript": [
        "$('div#21587e3b-af9a-482a-8ad6-520b8df27a08').width('50%')"
       ],
       "metadata": {},
       "output_type": "display_data",
       "text": [
        "<IPython.core.display.Javascript at 0x11b147cd0>"
       ]
      },
      {
       "javascript": [
        "$('div#21587e3b-af9a-482a-8ad6-520b8df27a08').width('50%')"
       ],
       "metadata": {},
       "output_type": "display_data",
       "text": [
        "<IPython.core.display.Javascript at 0x11b147cd0>"
       ]
      },
      {
       "javascript": [
        "$('div#21587e3b-af9a-482a-8ad6-520b8df27a08').width('51%')"
       ],
       "metadata": {},
       "output_type": "display_data",
       "text": [
        "<IPython.core.display.Javascript at 0x11b147cd0>"
       ]
      },
      {
       "javascript": [
        "$('div#21587e3b-af9a-482a-8ad6-520b8df27a08').width('51%')"
       ],
       "metadata": {},
       "output_type": "display_data",
       "text": [
        "<IPython.core.display.Javascript at 0x11b147cd0>"
       ]
      },
      {
       "javascript": [
        "$('div#21587e3b-af9a-482a-8ad6-520b8df27a08').width('51%')"
       ],
       "metadata": {},
       "output_type": "display_data",
       "text": [
        "<IPython.core.display.Javascript at 0x11b147cd0>"
       ]
      },
      {
       "javascript": [
        "$('div#21587e3b-af9a-482a-8ad6-520b8df27a08').width('51%')"
       ],
       "metadata": {},
       "output_type": "display_data",
       "text": [
        "<IPython.core.display.Javascript at 0x11b147cd0>"
       ]
      },
      {
       "javascript": [
        "$('div#21587e3b-af9a-482a-8ad6-520b8df27a08').width('51%')"
       ],
       "metadata": {},
       "output_type": "display_data",
       "text": [
        "<IPython.core.display.Javascript at 0x11b147cd0>"
       ]
      },
      {
       "javascript": [
        "$('div#21587e3b-af9a-482a-8ad6-520b8df27a08').width('52%')"
       ],
       "metadata": {},
       "output_type": "display_data",
       "text": [
        "<IPython.core.display.Javascript at 0x11b147cd0>"
       ]
      },
      {
       "javascript": [
        "$('div#21587e3b-af9a-482a-8ad6-520b8df27a08').width('52%')"
       ],
       "metadata": {},
       "output_type": "display_data",
       "text": [
        "<IPython.core.display.Javascript at 0x11b147cd0>"
       ]
      },
      {
       "javascript": [
        "$('div#21587e3b-af9a-482a-8ad6-520b8df27a08').width('52%')"
       ],
       "metadata": {},
       "output_type": "display_data",
       "text": [
        "<IPython.core.display.Javascript at 0x11b147cd0>"
       ]
      },
      {
       "javascript": [
        "$('div#21587e3b-af9a-482a-8ad6-520b8df27a08').width('53%')"
       ],
       "metadata": {},
       "output_type": "display_data",
       "text": [
        "<IPython.core.display.Javascript at 0x11b147cd0>"
       ]
      },
      {
       "javascript": [
        "$('div#21587e3b-af9a-482a-8ad6-520b8df27a08').width('53%')"
       ],
       "metadata": {},
       "output_type": "display_data",
       "text": [
        "<IPython.core.display.Javascript at 0x11b147cd0>"
       ]
      },
      {
       "javascript": [
        "$('div#21587e3b-af9a-482a-8ad6-520b8df27a08').width('54%')"
       ],
       "metadata": {},
       "output_type": "display_data",
       "text": [
        "<IPython.core.display.Javascript at 0x11b147cd0>"
       ]
      },
      {
       "javascript": [
        "$('div#21587e3b-af9a-482a-8ad6-520b8df27a08').width('54%')"
       ],
       "metadata": {},
       "output_type": "display_data",
       "text": [
        "<IPython.core.display.Javascript at 0x11b147cd0>"
       ]
      },
      {
       "javascript": [
        "$('div#21587e3b-af9a-482a-8ad6-520b8df27a08').width('54%')"
       ],
       "metadata": {},
       "output_type": "display_data",
       "text": [
        "<IPython.core.display.Javascript at 0x11b147cd0>"
       ]
      },
      {
       "javascript": [
        "$('div#21587e3b-af9a-482a-8ad6-520b8df27a08').width('54%')"
       ],
       "metadata": {},
       "output_type": "display_data",
       "text": [
        "<IPython.core.display.Javascript at 0x11b147cd0>"
       ]
      },
      {
       "javascript": [
        "$('div#21587e3b-af9a-482a-8ad6-520b8df27a08').width('55%')"
       ],
       "metadata": {},
       "output_type": "display_data",
       "text": [
        "<IPython.core.display.Javascript at 0x11b147cd0>"
       ]
      },
      {
       "javascript": [
        "$('div#21587e3b-af9a-482a-8ad6-520b8df27a08').width('55%')"
       ],
       "metadata": {},
       "output_type": "display_data",
       "text": [
        "<IPython.core.display.Javascript at 0x11b147cd0>"
       ]
      },
      {
       "javascript": [
        "$('div#21587e3b-af9a-482a-8ad6-520b8df27a08').width('55%')"
       ],
       "metadata": {},
       "output_type": "display_data",
       "text": [
        "<IPython.core.display.Javascript at 0x11b147cd0>"
       ]
      },
      {
       "javascript": [
        "$('div#21587e3b-af9a-482a-8ad6-520b8df27a08').width('55%')"
       ],
       "metadata": {},
       "output_type": "display_data",
       "text": [
        "<IPython.core.display.Javascript at 0x11b147cd0>"
       ]
      },
      {
       "javascript": [
        "$('div#21587e3b-af9a-482a-8ad6-520b8df27a08').width('56%')"
       ],
       "metadata": {},
       "output_type": "display_data",
       "text": [
        "<IPython.core.display.Javascript at 0x11b147cd0>"
       ]
      },
      {
       "javascript": [
        "$('div#21587e3b-af9a-482a-8ad6-520b8df27a08').width('56%')"
       ],
       "metadata": {},
       "output_type": "display_data",
       "text": [
        "<IPython.core.display.Javascript at 0x11b147cd0>"
       ]
      },
      {
       "javascript": [
        "$('div#21587e3b-af9a-482a-8ad6-520b8df27a08').width('56%')"
       ],
       "metadata": {},
       "output_type": "display_data",
       "text": [
        "<IPython.core.display.Javascript at 0x11b147cd0>"
       ]
      },
      {
       "javascript": [
        "$('div#21587e3b-af9a-482a-8ad6-520b8df27a08').width('57%')"
       ],
       "metadata": {},
       "output_type": "display_data",
       "text": [
        "<IPython.core.display.Javascript at 0x11b147cd0>"
       ]
      },
      {
       "javascript": [
        "$('div#21587e3b-af9a-482a-8ad6-520b8df27a08').width('57%')"
       ],
       "metadata": {},
       "output_type": "display_data",
       "text": [
        "<IPython.core.display.Javascript at 0x11b147cd0>"
       ]
      },
      {
       "javascript": [
        "$('div#21587e3b-af9a-482a-8ad6-520b8df27a08').width('58%')"
       ],
       "metadata": {},
       "output_type": "display_data",
       "text": [
        "<IPython.core.display.Javascript at 0x11b147cd0>"
       ]
      },
      {
       "javascript": [
        "$('div#21587e3b-af9a-482a-8ad6-520b8df27a08').width('58%')"
       ],
       "metadata": {},
       "output_type": "display_data",
       "text": [
        "<IPython.core.display.Javascript at 0x11b147cd0>"
       ]
      },
      {
       "javascript": [
        "$('div#21587e3b-af9a-482a-8ad6-520b8df27a08').width('58%')"
       ],
       "metadata": {},
       "output_type": "display_data",
       "text": [
        "<IPython.core.display.Javascript at 0x11b147cd0>"
       ]
      },
      {
       "javascript": [
        "$('div#21587e3b-af9a-482a-8ad6-520b8df27a08').width('58%')"
       ],
       "metadata": {},
       "output_type": "display_data",
       "text": [
        "<IPython.core.display.Javascript at 0x11b147cd0>"
       ]
      },
      {
       "javascript": [
        "$('div#21587e3b-af9a-482a-8ad6-520b8df27a08').width('58%')"
       ],
       "metadata": {},
       "output_type": "display_data",
       "text": [
        "<IPython.core.display.Javascript at 0x11b147cd0>"
       ]
      },
      {
       "javascript": [
        "$('div#21587e3b-af9a-482a-8ad6-520b8df27a08').width('59%')"
       ],
       "metadata": {},
       "output_type": "display_data",
       "text": [
        "<IPython.core.display.Javascript at 0x11b147cd0>"
       ]
      },
      {
       "javascript": [
        "$('div#21587e3b-af9a-482a-8ad6-520b8df27a08').width('59%')"
       ],
       "metadata": {},
       "output_type": "display_data",
       "text": [
        "<IPython.core.display.Javascript at 0x11b147cd0>"
       ]
      },
      {
       "javascript": [
        "$('div#21587e3b-af9a-482a-8ad6-520b8df27a08').width('59%')"
       ],
       "metadata": {},
       "output_type": "display_data",
       "text": [
        "<IPython.core.display.Javascript at 0x11b147cd0>"
       ]
      },
      {
       "javascript": [
        "$('div#21587e3b-af9a-482a-8ad6-520b8df27a08').width('60%')"
       ],
       "metadata": {},
       "output_type": "display_data",
       "text": [
        "<IPython.core.display.Javascript at 0x11b147cd0>"
       ]
      },
      {
       "javascript": [
        "$('div#21587e3b-af9a-482a-8ad6-520b8df27a08').width('60%')"
       ],
       "metadata": {},
       "output_type": "display_data",
       "text": [
        "<IPython.core.display.Javascript at 0x11b147cd0>"
       ]
      },
      {
       "javascript": [
        "$('div#21587e3b-af9a-482a-8ad6-520b8df27a08').width('60%')"
       ],
       "metadata": {},
       "output_type": "display_data",
       "text": [
        "<IPython.core.display.Javascript at 0x11b147cd0>"
       ]
      },
      {
       "javascript": [
        "$('div#21587e3b-af9a-482a-8ad6-520b8df27a08').width('61%')"
       ],
       "metadata": {},
       "output_type": "display_data",
       "text": [
        "<IPython.core.display.Javascript at 0x11b147cd0>"
       ]
      },
      {
       "javascript": [
        "$('div#21587e3b-af9a-482a-8ad6-520b8df27a08').width('61%')"
       ],
       "metadata": {},
       "output_type": "display_data",
       "text": [
        "<IPython.core.display.Javascript at 0x11b147cd0>"
       ]
      },
      {
       "javascript": [
        "$('div#21587e3b-af9a-482a-8ad6-520b8df27a08').width('61%')"
       ],
       "metadata": {},
       "output_type": "display_data",
       "text": [
        "<IPython.core.display.Javascript at 0x11b147cd0>"
       ]
      },
      {
       "javascript": [
        "$('div#21587e3b-af9a-482a-8ad6-520b8df27a08').width('62%')"
       ],
       "metadata": {},
       "output_type": "display_data",
       "text": [
        "<IPython.core.display.Javascript at 0x11b147cd0>"
       ]
      },
      {
       "javascript": [
        "$('div#21587e3b-af9a-482a-8ad6-520b8df27a08').width('62%')"
       ],
       "metadata": {},
       "output_type": "display_data",
       "text": [
        "<IPython.core.display.Javascript at 0x11b147cd0>"
       ]
      },
      {
       "javascript": [
        "$('div#21587e3b-af9a-482a-8ad6-520b8df27a08').width('62%')"
       ],
       "metadata": {},
       "output_type": "display_data",
       "text": [
        "<IPython.core.display.Javascript at 0x11b147cd0>"
       ]
      },
      {
       "javascript": [
        "$('div#21587e3b-af9a-482a-8ad6-520b8df27a08').width('62%')"
       ],
       "metadata": {},
       "output_type": "display_data",
       "text": [
        "<IPython.core.display.Javascript at 0x11b147cd0>"
       ]
      },
      {
       "javascript": [
        "$('div#21587e3b-af9a-482a-8ad6-520b8df27a08').width('63%')"
       ],
       "metadata": {},
       "output_type": "display_data",
       "text": [
        "<IPython.core.display.Javascript at 0x11b147cd0>"
       ]
      },
      {
       "javascript": [
        "$('div#21587e3b-af9a-482a-8ad6-520b8df27a08').width('63%')"
       ],
       "metadata": {},
       "output_type": "display_data",
       "text": [
        "<IPython.core.display.Javascript at 0x11b147cd0>"
       ]
      },
      {
       "javascript": [
        "$('div#21587e3b-af9a-482a-8ad6-520b8df27a08').width('63%')"
       ],
       "metadata": {},
       "output_type": "display_data",
       "text": [
        "<IPython.core.display.Javascript at 0x11b147cd0>"
       ]
      },
      {
       "javascript": [
        "$('div#21587e3b-af9a-482a-8ad6-520b8df27a08').width('64%')"
       ],
       "metadata": {},
       "output_type": "display_data",
       "text": [
        "<IPython.core.display.Javascript at 0x11b147cd0>"
       ]
      },
      {
       "javascript": [
        "$('div#21587e3b-af9a-482a-8ad6-520b8df27a08').width('64%')"
       ],
       "metadata": {},
       "output_type": "display_data",
       "text": [
        "<IPython.core.display.Javascript at 0x11b147cd0>"
       ]
      },
      {
       "javascript": [
        "$('div#21587e3b-af9a-482a-8ad6-520b8df27a08').width('64%')"
       ],
       "metadata": {},
       "output_type": "display_data",
       "text": [
        "<IPython.core.display.Javascript at 0x11b147cd0>"
       ]
      },
      {
       "javascript": [
        "$('div#21587e3b-af9a-482a-8ad6-520b8df27a08').width('65%')"
       ],
       "metadata": {},
       "output_type": "display_data",
       "text": [
        "<IPython.core.display.Javascript at 0x11b147cd0>"
       ]
      },
      {
       "javascript": [
        "$('div#21587e3b-af9a-482a-8ad6-520b8df27a08').width('65%')"
       ],
       "metadata": {},
       "output_type": "display_data",
       "text": [
        "<IPython.core.display.Javascript at 0x11b147cd0>"
       ]
      },
      {
       "javascript": [
        "$('div#21587e3b-af9a-482a-8ad6-520b8df27a08').width('65%')"
       ],
       "metadata": {},
       "output_type": "display_data",
       "text": [
        "<IPython.core.display.Javascript at 0x11b147cd0>"
       ]
      },
      {
       "javascript": [
        "$('div#21587e3b-af9a-482a-8ad6-520b8df27a08').width('65%')"
       ],
       "metadata": {},
       "output_type": "display_data",
       "text": [
        "<IPython.core.display.Javascript at 0x11b147cd0>"
       ]
      },
      {
       "javascript": [
        "$('div#21587e3b-af9a-482a-8ad6-520b8df27a08').width('66%')"
       ],
       "metadata": {},
       "output_type": "display_data",
       "text": [
        "<IPython.core.display.Javascript at 0x11b147cd0>"
       ]
      },
      {
       "javascript": [
        "$('div#21587e3b-af9a-482a-8ad6-520b8df27a08').width('66%')"
       ],
       "metadata": {},
       "output_type": "display_data",
       "text": [
        "<IPython.core.display.Javascript at 0x11b147cd0>"
       ]
      },
      {
       "javascript": [
        "$('div#21587e3b-af9a-482a-8ad6-520b8df27a08').width('66%')"
       ],
       "metadata": {},
       "output_type": "display_data",
       "text": [
        "<IPython.core.display.Javascript at 0x11b147cd0>"
       ]
      },
      {
       "javascript": [
        "$('div#21587e3b-af9a-482a-8ad6-520b8df27a08').width('66%')"
       ],
       "metadata": {},
       "output_type": "display_data",
       "text": [
        "<IPython.core.display.Javascript at 0x11b147cd0>"
       ]
      },
      {
       "javascript": [
        "$('div#21587e3b-af9a-482a-8ad6-520b8df27a08').width('67%')"
       ],
       "metadata": {},
       "output_type": "display_data",
       "text": [
        "<IPython.core.display.Javascript at 0x11b147cd0>"
       ]
      },
      {
       "javascript": [
        "$('div#21587e3b-af9a-482a-8ad6-520b8df27a08').width('67%')"
       ],
       "metadata": {},
       "output_type": "display_data",
       "text": [
        "<IPython.core.display.Javascript at 0x11b147cd0>"
       ]
      },
      {
       "javascript": [
        "$('div#21587e3b-af9a-482a-8ad6-520b8df27a08').width('68%')"
       ],
       "metadata": {},
       "output_type": "display_data",
       "text": [
        "<IPython.core.display.Javascript at 0x11b147cd0>"
       ]
      },
      {
       "javascript": [
        "$('div#21587e3b-af9a-482a-8ad6-520b8df27a08').width('68%')"
       ],
       "metadata": {},
       "output_type": "display_data",
       "text": [
        "<IPython.core.display.Javascript at 0x11b147cd0>"
       ]
      },
      {
       "javascript": [
        "$('div#21587e3b-af9a-482a-8ad6-520b8df27a08').width('68%')"
       ],
       "metadata": {},
       "output_type": "display_data",
       "text": [
        "<IPython.core.display.Javascript at 0x11b147cd0>"
       ]
      },
      {
       "javascript": [
        "$('div#21587e3b-af9a-482a-8ad6-520b8df27a08').width('69%')"
       ],
       "metadata": {},
       "output_type": "display_data",
       "text": [
        "<IPython.core.display.Javascript at 0x11b147cd0>"
       ]
      },
      {
       "javascript": [
        "$('div#21587e3b-af9a-482a-8ad6-520b8df27a08').width('69%')"
       ],
       "metadata": {},
       "output_type": "display_data",
       "text": [
        "<IPython.core.display.Javascript at 0x11b147cd0>"
       ]
      },
      {
       "javascript": [
        "$('div#21587e3b-af9a-482a-8ad6-520b8df27a08').width('69%')"
       ],
       "metadata": {},
       "output_type": "display_data",
       "text": [
        "<IPython.core.display.Javascript at 0x11b147cd0>"
       ]
      },
      {
       "javascript": [
        "$('div#21587e3b-af9a-482a-8ad6-520b8df27a08').width('69%')"
       ],
       "metadata": {},
       "output_type": "display_data",
       "text": [
        "<IPython.core.display.Javascript at 0x11b147cd0>"
       ]
      },
      {
       "javascript": [
        "$('div#21587e3b-af9a-482a-8ad6-520b8df27a08').width('69%')"
       ],
       "metadata": {},
       "output_type": "display_data",
       "text": [
        "<IPython.core.display.Javascript at 0x11b147cd0>"
       ]
      },
      {
       "javascript": [
        "$('div#21587e3b-af9a-482a-8ad6-520b8df27a08').width('70%')"
       ],
       "metadata": {},
       "output_type": "display_data",
       "text": [
        "<IPython.core.display.Javascript at 0x11b147cd0>"
       ]
      },
      {
       "javascript": [
        "$('div#21587e3b-af9a-482a-8ad6-520b8df27a08').width('70%')"
       ],
       "metadata": {},
       "output_type": "display_data",
       "text": [
        "<IPython.core.display.Javascript at 0x11b147cd0>"
       ]
      },
      {
       "javascript": [
        "$('div#21587e3b-af9a-482a-8ad6-520b8df27a08').width('70%')"
       ],
       "metadata": {},
       "output_type": "display_data",
       "text": [
        "<IPython.core.display.Javascript at 0x11b147cd0>"
       ]
      },
      {
       "javascript": [
        "$('div#21587e3b-af9a-482a-8ad6-520b8df27a08').width('71%')"
       ],
       "metadata": {},
       "output_type": "display_data",
       "text": [
        "<IPython.core.display.Javascript at 0x11b147cd0>"
       ]
      },
      {
       "javascript": [
        "$('div#21587e3b-af9a-482a-8ad6-520b8df27a08').width('71%')"
       ],
       "metadata": {},
       "output_type": "display_data",
       "text": [
        "<IPython.core.display.Javascript at 0x11b147cd0>"
       ]
      },
      {
       "javascript": [
        "$('div#21587e3b-af9a-482a-8ad6-520b8df27a08').width('71%')"
       ],
       "metadata": {},
       "output_type": "display_data",
       "text": [
        "<IPython.core.display.Javascript at 0x11b147cd0>"
       ]
      },
      {
       "javascript": [
        "$('div#21587e3b-af9a-482a-8ad6-520b8df27a08').width('72%')"
       ],
       "metadata": {},
       "output_type": "display_data",
       "text": [
        "<IPython.core.display.Javascript at 0x11b147cd0>"
       ]
      },
      {
       "javascript": [
        "$('div#21587e3b-af9a-482a-8ad6-520b8df27a08').width('72%')"
       ],
       "metadata": {},
       "output_type": "display_data",
       "text": [
        "<IPython.core.display.Javascript at 0x11b147cd0>"
       ]
      },
      {
       "javascript": [
        "$('div#21587e3b-af9a-482a-8ad6-520b8df27a08').width('73%')"
       ],
       "metadata": {},
       "output_type": "display_data",
       "text": [
        "<IPython.core.display.Javascript at 0x11b147cd0>"
       ]
      },
      {
       "javascript": [
        "$('div#21587e3b-af9a-482a-8ad6-520b8df27a08').width('73%')"
       ],
       "metadata": {},
       "output_type": "display_data",
       "text": [
        "<IPython.core.display.Javascript at 0x11b147cd0>"
       ]
      },
      {
       "javascript": [
        "$('div#21587e3b-af9a-482a-8ad6-520b8df27a08').width('73%')"
       ],
       "metadata": {},
       "output_type": "display_data",
       "text": [
        "<IPython.core.display.Javascript at 0x11b147cd0>"
       ]
      },
      {
       "javascript": [
        "$('div#21587e3b-af9a-482a-8ad6-520b8df27a08').width('73%')"
       ],
       "metadata": {},
       "output_type": "display_data",
       "text": [
        "<IPython.core.display.Javascript at 0x11b147cd0>"
       ]
      },
      {
       "javascript": [
        "$('div#21587e3b-af9a-482a-8ad6-520b8df27a08').width('73%')"
       ],
       "metadata": {},
       "output_type": "display_data",
       "text": [
        "<IPython.core.display.Javascript at 0x11b147cd0>"
       ]
      },
      {
       "javascript": [
        "$('div#21587e3b-af9a-482a-8ad6-520b8df27a08').width('74%')"
       ],
       "metadata": {},
       "output_type": "display_data",
       "text": [
        "<IPython.core.display.Javascript at 0x11b147cd0>"
       ]
      },
      {
       "javascript": [
        "$('div#21587e3b-af9a-482a-8ad6-520b8df27a08').width('74%')"
       ],
       "metadata": {},
       "output_type": "display_data",
       "text": [
        "<IPython.core.display.Javascript at 0x11b147cd0>"
       ]
      },
      {
       "javascript": [
        "$('div#21587e3b-af9a-482a-8ad6-520b8df27a08').width('74%')"
       ],
       "metadata": {},
       "output_type": "display_data",
       "text": [
        "<IPython.core.display.Javascript at 0x11b147cd0>"
       ]
      },
      {
       "javascript": [
        "$('div#21587e3b-af9a-482a-8ad6-520b8df27a08').width('75%')"
       ],
       "metadata": {},
       "output_type": "display_data",
       "text": [
        "<IPython.core.display.Javascript at 0x11b147cd0>"
       ]
      },
      {
       "javascript": [
        "$('div#21587e3b-af9a-482a-8ad6-520b8df27a08').width('75%')"
       ],
       "metadata": {},
       "output_type": "display_data",
       "text": [
        "<IPython.core.display.Javascript at 0x11b147cd0>"
       ]
      },
      {
       "javascript": [
        "$('div#21587e3b-af9a-482a-8ad6-520b8df27a08').width('75%')"
       ],
       "metadata": {},
       "output_type": "display_data",
       "text": [
        "<IPython.core.display.Javascript at 0x11b147cd0>"
       ]
      },
      {
       "javascript": [
        "$('div#21587e3b-af9a-482a-8ad6-520b8df27a08').width('76%')"
       ],
       "metadata": {},
       "output_type": "display_data",
       "text": [
        "<IPython.core.display.Javascript at 0x11b147cd0>"
       ]
      },
      {
       "javascript": [
        "$('div#21587e3b-af9a-482a-8ad6-520b8df27a08').width('76%')"
       ],
       "metadata": {},
       "output_type": "display_data",
       "text": [
        "<IPython.core.display.Javascript at 0x11b147cd0>"
       ]
      },
      {
       "javascript": [
        "$('div#21587e3b-af9a-482a-8ad6-520b8df27a08').width('76%')"
       ],
       "metadata": {},
       "output_type": "display_data",
       "text": [
        "<IPython.core.display.Javascript at 0x11b147cd0>"
       ]
      },
      {
       "javascript": [
        "$('div#21587e3b-af9a-482a-8ad6-520b8df27a08').width('76%')"
       ],
       "metadata": {},
       "output_type": "display_data",
       "text": [
        "<IPython.core.display.Javascript at 0x11b147cd0>"
       ]
      },
      {
       "javascript": [
        "$('div#21587e3b-af9a-482a-8ad6-520b8df27a08').width('77%')"
       ],
       "metadata": {},
       "output_type": "display_data",
       "text": [
        "<IPython.core.display.Javascript at 0x11b147cd0>"
       ]
      },
      {
       "javascript": [
        "$('div#21587e3b-af9a-482a-8ad6-520b8df27a08').width('77%')"
       ],
       "metadata": {},
       "output_type": "display_data",
       "text": [
        "<IPython.core.display.Javascript at 0x11b147cd0>"
       ]
      },
      {
       "javascript": [
        "$('div#21587e3b-af9a-482a-8ad6-520b8df27a08').width('77%')"
       ],
       "metadata": {},
       "output_type": "display_data",
       "text": [
        "<IPython.core.display.Javascript at 0x11b147cd0>"
       ]
      },
      {
       "javascript": [
        "$('div#21587e3b-af9a-482a-8ad6-520b8df27a08').width('78%')"
       ],
       "metadata": {},
       "output_type": "display_data",
       "text": [
        "<IPython.core.display.Javascript at 0x11b147cd0>"
       ]
      },
      {
       "javascript": [
        "$('div#21587e3b-af9a-482a-8ad6-520b8df27a08').width('78%')"
       ],
       "metadata": {},
       "output_type": "display_data",
       "text": [
        "<IPython.core.display.Javascript at 0x11b147cd0>"
       ]
      },
      {
       "javascript": [
        "$('div#21587e3b-af9a-482a-8ad6-520b8df27a08').width('78%')"
       ],
       "metadata": {},
       "output_type": "display_data",
       "text": [
        "<IPython.core.display.Javascript at 0x11b147cd0>"
       ]
      },
      {
       "javascript": [
        "$('div#21587e3b-af9a-482a-8ad6-520b8df27a08').width('79%')"
       ],
       "metadata": {},
       "output_type": "display_data",
       "text": [
        "<IPython.core.display.Javascript at 0x11b147cd0>"
       ]
      },
      {
       "javascript": [
        "$('div#21587e3b-af9a-482a-8ad6-520b8df27a08').width('79%')"
       ],
       "metadata": {},
       "output_type": "display_data",
       "text": [
        "<IPython.core.display.Javascript at 0x11b147cd0>"
       ]
      },
      {
       "javascript": [
        "$('div#21587e3b-af9a-482a-8ad6-520b8df27a08').width('79%')"
       ],
       "metadata": {},
       "output_type": "display_data",
       "text": [
        "<IPython.core.display.Javascript at 0x11b147cd0>"
       ]
      },
      {
       "javascript": [
        "$('div#21587e3b-af9a-482a-8ad6-520b8df27a08').width('80%')"
       ],
       "metadata": {},
       "output_type": "display_data",
       "text": [
        "<IPython.core.display.Javascript at 0x11b147cd0>"
       ]
      },
      {
       "javascript": [
        "$('div#21587e3b-af9a-482a-8ad6-520b8df27a08').width('80%')"
       ],
       "metadata": {},
       "output_type": "display_data",
       "text": [
        "<IPython.core.display.Javascript at 0x11b147cd0>"
       ]
      },
      {
       "javascript": [
        "$('div#21587e3b-af9a-482a-8ad6-520b8df27a08').width('80%')"
       ],
       "metadata": {},
       "output_type": "display_data",
       "text": [
        "<IPython.core.display.Javascript at 0x11b147cd0>"
       ]
      },
      {
       "javascript": [
        "$('div#21587e3b-af9a-482a-8ad6-520b8df27a08').width('80%')"
       ],
       "metadata": {},
       "output_type": "display_data",
       "text": [
        "<IPython.core.display.Javascript at 0x11b147cd0>"
       ]
      },
      {
       "javascript": [
        "$('div#21587e3b-af9a-482a-8ad6-520b8df27a08').width('80%')"
       ],
       "metadata": {},
       "output_type": "display_data",
       "text": [
        "<IPython.core.display.Javascript at 0x11b147cd0>"
       ]
      },
      {
       "javascript": [
        "$('div#21587e3b-af9a-482a-8ad6-520b8df27a08').width('81%')"
       ],
       "metadata": {},
       "output_type": "display_data",
       "text": [
        "<IPython.core.display.Javascript at 0x11b147cd0>"
       ]
      },
      {
       "javascript": [
        "$('div#21587e3b-af9a-482a-8ad6-520b8df27a08').width('81%')"
       ],
       "metadata": {},
       "output_type": "display_data",
       "text": [
        "<IPython.core.display.Javascript at 0x11b147cd0>"
       ]
      },
      {
       "javascript": [
        "$('div#21587e3b-af9a-482a-8ad6-520b8df27a08').width('82%')"
       ],
       "metadata": {},
       "output_type": "display_data",
       "text": [
        "<IPython.core.display.Javascript at 0x11b147cd0>"
       ]
      },
      {
       "javascript": [
        "$('div#21587e3b-af9a-482a-8ad6-520b8df27a08').width('82%')"
       ],
       "metadata": {},
       "output_type": "display_data",
       "text": [
        "<IPython.core.display.Javascript at 0x11b147cd0>"
       ]
      },
      {
       "javascript": [
        "$('div#21587e3b-af9a-482a-8ad6-520b8df27a08').width('82%')"
       ],
       "metadata": {},
       "output_type": "display_data",
       "text": [
        "<IPython.core.display.Javascript at 0x11b147cd0>"
       ]
      },
      {
       "javascript": [
        "$('div#21587e3b-af9a-482a-8ad6-520b8df27a08').width('83%')"
       ],
       "metadata": {},
       "output_type": "display_data",
       "text": [
        "<IPython.core.display.Javascript at 0x11b147cd0>"
       ]
      },
      {
       "javascript": [
        "$('div#21587e3b-af9a-482a-8ad6-520b8df27a08').width('83%')"
       ],
       "metadata": {},
       "output_type": "display_data",
       "text": [
        "<IPython.core.display.Javascript at 0x11b147cd0>"
       ]
      },
      {
       "javascript": [
        "$('div#21587e3b-af9a-482a-8ad6-520b8df27a08').width('83%')"
       ],
       "metadata": {},
       "output_type": "display_data",
       "text": [
        "<IPython.core.display.Javascript at 0x11b147cd0>"
       ]
      },
      {
       "javascript": [
        "$('div#21587e3b-af9a-482a-8ad6-520b8df27a08').width('84%')"
       ],
       "metadata": {},
       "output_type": "display_data",
       "text": [
        "<IPython.core.display.Javascript at 0x11b147cd0>"
       ]
      },
      {
       "javascript": [
        "$('div#21587e3b-af9a-482a-8ad6-520b8df27a08').width('84%')"
       ],
       "metadata": {},
       "output_type": "display_data",
       "text": [
        "<IPython.core.display.Javascript at 0x11b147cd0>"
       ]
      },
      {
       "javascript": [
        "$('div#21587e3b-af9a-482a-8ad6-520b8df27a08').width('84%')"
       ],
       "metadata": {},
       "output_type": "display_data",
       "text": [
        "<IPython.core.display.Javascript at 0x11b147cd0>"
       ]
      },
      {
       "javascript": [
        "$('div#21587e3b-af9a-482a-8ad6-520b8df27a08').width('84%')"
       ],
       "metadata": {},
       "output_type": "display_data",
       "text": [
        "<IPython.core.display.Javascript at 0x11b147cd0>"
       ]
      },
      {
       "javascript": [
        "$('div#21587e3b-af9a-482a-8ad6-520b8df27a08').width('84%')"
       ],
       "metadata": {},
       "output_type": "display_data",
       "text": [
        "<IPython.core.display.Javascript at 0x11b147cd0>"
       ]
      },
      {
       "javascript": [
        "$('div#21587e3b-af9a-482a-8ad6-520b8df27a08').width('85%')"
       ],
       "metadata": {},
       "output_type": "display_data",
       "text": [
        "<IPython.core.display.Javascript at 0x11b147cd0>"
       ]
      },
      {
       "javascript": [
        "$('div#21587e3b-af9a-482a-8ad6-520b8df27a08').width('85%')"
       ],
       "metadata": {},
       "output_type": "display_data",
       "text": [
        "<IPython.core.display.Javascript at 0x11b147cd0>"
       ]
      },
      {
       "javascript": [
        "$('div#21587e3b-af9a-482a-8ad6-520b8df27a08').width('85%')"
       ],
       "metadata": {},
       "output_type": "display_data",
       "text": [
        "<IPython.core.display.Javascript at 0x11b147cd0>"
       ]
      },
      {
       "javascript": [
        "$('div#21587e3b-af9a-482a-8ad6-520b8df27a08').width('86%')"
       ],
       "metadata": {},
       "output_type": "display_data",
       "text": [
        "<IPython.core.display.Javascript at 0x11b147cd0>"
       ]
      },
      {
       "javascript": [
        "$('div#21587e3b-af9a-482a-8ad6-520b8df27a08').width('86%')"
       ],
       "metadata": {},
       "output_type": "display_data",
       "text": [
        "<IPython.core.display.Javascript at 0x11b147cd0>"
       ]
      },
      {
       "javascript": [
        "$('div#21587e3b-af9a-482a-8ad6-520b8df27a08').width('87%')"
       ],
       "metadata": {},
       "output_type": "display_data",
       "text": [
        "<IPython.core.display.Javascript at 0x11b147cd0>"
       ]
      },
      {
       "javascript": [
        "$('div#21587e3b-af9a-482a-8ad6-520b8df27a08').width('87%')"
       ],
       "metadata": {},
       "output_type": "display_data",
       "text": [
        "<IPython.core.display.Javascript at 0x11b147cd0>"
       ]
      },
      {
       "javascript": [
        "$('div#21587e3b-af9a-482a-8ad6-520b8df27a08').width('87%')"
       ],
       "metadata": {},
       "output_type": "display_data",
       "text": [
        "<IPython.core.display.Javascript at 0x11b147cd0>"
       ]
      },
      {
       "javascript": [
        "$('div#21587e3b-af9a-482a-8ad6-520b8df27a08').width('88%')"
       ],
       "metadata": {},
       "output_type": "display_data",
       "text": [
        "<IPython.core.display.Javascript at 0x11b147cd0>"
       ]
      },
      {
       "javascript": [
        "$('div#21587e3b-af9a-482a-8ad6-520b8df27a08').width('88%')"
       ],
       "metadata": {},
       "output_type": "display_data",
       "text": [
        "<IPython.core.display.Javascript at 0x11b147cd0>"
       ]
      },
      {
       "javascript": [
        "$('div#21587e3b-af9a-482a-8ad6-520b8df27a08').width('88%')"
       ],
       "metadata": {},
       "output_type": "display_data",
       "text": [
        "<IPython.core.display.Javascript at 0x11b147cd0>"
       ]
      },
      {
       "javascript": [
        "$('div#21587e3b-af9a-482a-8ad6-520b8df27a08').width('88%')"
       ],
       "metadata": {},
       "output_type": "display_data",
       "text": [
        "<IPython.core.display.Javascript at 0x11b147cd0>"
       ]
      },
      {
       "javascript": [
        "$('div#21587e3b-af9a-482a-8ad6-520b8df27a08').width('88%')"
       ],
       "metadata": {},
       "output_type": "display_data",
       "text": [
        "<IPython.core.display.Javascript at 0x11b147cd0>"
       ]
      },
      {
       "javascript": [
        "$('div#21587e3b-af9a-482a-8ad6-520b8df27a08').width('89%')"
       ],
       "metadata": {},
       "output_type": "display_data",
       "text": [
        "<IPython.core.display.Javascript at 0x11b147cd0>"
       ]
      },
      {
       "javascript": [
        "$('div#21587e3b-af9a-482a-8ad6-520b8df27a08').width('89%')"
       ],
       "metadata": {},
       "output_type": "display_data",
       "text": [
        "<IPython.core.display.Javascript at 0x11b147cd0>"
       ]
      },
      {
       "javascript": [
        "$('div#21587e3b-af9a-482a-8ad6-520b8df27a08').width('89%')"
       ],
       "metadata": {},
       "output_type": "display_data",
       "text": [
        "<IPython.core.display.Javascript at 0x11b147cd0>"
       ]
      },
      {
       "javascript": [
        "$('div#21587e3b-af9a-482a-8ad6-520b8df27a08').width('90%')"
       ],
       "metadata": {},
       "output_type": "display_data",
       "text": [
        "<IPython.core.display.Javascript at 0x11b147cd0>"
       ]
      },
      {
       "javascript": [
        "$('div#21587e3b-af9a-482a-8ad6-520b8df27a08').width('90%')"
       ],
       "metadata": {},
       "output_type": "display_data",
       "text": [
        "<IPython.core.display.Javascript at 0x11b147cd0>"
       ]
      },
      {
       "javascript": [
        "$('div#21587e3b-af9a-482a-8ad6-520b8df27a08').width('90%')"
       ],
       "metadata": {},
       "output_type": "display_data",
       "text": [
        "<IPython.core.display.Javascript at 0x11b147cd0>"
       ]
      },
      {
       "javascript": [
        "$('div#21587e3b-af9a-482a-8ad6-520b8df27a08').width('91%')"
       ],
       "metadata": {},
       "output_type": "display_data",
       "text": [
        "<IPython.core.display.Javascript at 0x11b147cd0>"
       ]
      },
      {
       "javascript": [
        "$('div#21587e3b-af9a-482a-8ad6-520b8df27a08').width('91%')"
       ],
       "metadata": {},
       "output_type": "display_data",
       "text": [
        "<IPython.core.display.Javascript at 0x11b147cd0>"
       ]
      },
      {
       "javascript": [
        "$('div#21587e3b-af9a-482a-8ad6-520b8df27a08').width('92%')"
       ],
       "metadata": {},
       "output_type": "display_data",
       "text": [
        "<IPython.core.display.Javascript at 0x11b147cd0>"
       ]
      },
      {
       "javascript": [
        "$('div#21587e3b-af9a-482a-8ad6-520b8df27a08').width('92%')"
       ],
       "metadata": {},
       "output_type": "display_data",
       "text": [
        "<IPython.core.display.Javascript at 0x11b147cd0>"
       ]
      },
      {
       "javascript": [
        "$('div#21587e3b-af9a-482a-8ad6-520b8df27a08').width('92%')"
       ],
       "metadata": {},
       "output_type": "display_data",
       "text": [
        "<IPython.core.display.Javascript at 0x11b147cd0>"
       ]
      },
      {
       "javascript": [
        "$('div#21587e3b-af9a-482a-8ad6-520b8df27a08').width('92%')"
       ],
       "metadata": {},
       "output_type": "display_data",
       "text": [
        "<IPython.core.display.Javascript at 0x11b147cd0>"
       ]
      },
      {
       "javascript": [
        "$('div#21587e3b-af9a-482a-8ad6-520b8df27a08').width('92%')"
       ],
       "metadata": {},
       "output_type": "display_data",
       "text": [
        "<IPython.core.display.Javascript at 0x11b147cd0>"
       ]
      },
      {
       "javascript": [
        "$('div#21587e3b-af9a-482a-8ad6-520b8df27a08').width('93%')"
       ],
       "metadata": {},
       "output_type": "display_data",
       "text": [
        "<IPython.core.display.Javascript at 0x11b147cd0>"
       ]
      },
      {
       "javascript": [
        "$('div#21587e3b-af9a-482a-8ad6-520b8df27a08').width('93%')"
       ],
       "metadata": {},
       "output_type": "display_data",
       "text": [
        "<IPython.core.display.Javascript at 0x11b147cd0>"
       ]
      },
      {
       "javascript": [
        "$('div#21587e3b-af9a-482a-8ad6-520b8df27a08').width('93%')"
       ],
       "metadata": {},
       "output_type": "display_data",
       "text": [
        "<IPython.core.display.Javascript at 0x11b147cd0>"
       ]
      },
      {
       "javascript": [
        "$('div#21587e3b-af9a-482a-8ad6-520b8df27a08').width('94%')"
       ],
       "metadata": {},
       "output_type": "display_data",
       "text": [
        "<IPython.core.display.Javascript at 0x11b147cd0>"
       ]
      },
      {
       "javascript": [
        "$('div#21587e3b-af9a-482a-8ad6-520b8df27a08').width('94%')"
       ],
       "metadata": {},
       "output_type": "display_data",
       "text": [
        "<IPython.core.display.Javascript at 0x11b147cd0>"
       ]
      },
      {
       "javascript": [
        "$('div#21587e3b-af9a-482a-8ad6-520b8df27a08').width('94%')"
       ],
       "metadata": {},
       "output_type": "display_data",
       "text": [
        "<IPython.core.display.Javascript at 0x11b147cd0>"
       ]
      },
      {
       "javascript": [
        "$('div#21587e3b-af9a-482a-8ad6-520b8df27a08').width('95%')"
       ],
       "metadata": {},
       "output_type": "display_data",
       "text": [
        "<IPython.core.display.Javascript at 0x11b147cd0>"
       ]
      },
      {
       "javascript": [
        "$('div#21587e3b-af9a-482a-8ad6-520b8df27a08').width('95%')"
       ],
       "metadata": {},
       "output_type": "display_data",
       "text": [
        "<IPython.core.display.Javascript at 0x11b147cd0>"
       ]
      },
      {
       "javascript": [
        "$('div#21587e3b-af9a-482a-8ad6-520b8df27a08').width('95%')"
       ],
       "metadata": {},
       "output_type": "display_data",
       "text": [
        "<IPython.core.display.Javascript at 0x11b147cd0>"
       ]
      },
      {
       "javascript": [
        "$('div#21587e3b-af9a-482a-8ad6-520b8df27a08').width('95%')"
       ],
       "metadata": {},
       "output_type": "display_data",
       "text": [
        "<IPython.core.display.Javascript at 0x11b147cd0>"
       ]
      },
      {
       "javascript": [
        "$('div#21587e3b-af9a-482a-8ad6-520b8df27a08').width('95%')"
       ],
       "metadata": {},
       "output_type": "display_data",
       "text": [
        "<IPython.core.display.Javascript at 0x11b147cd0>"
       ]
      },
      {
       "javascript": [
        "$('div#21587e3b-af9a-482a-8ad6-520b8df27a08').width('96%')"
       ],
       "metadata": {},
       "output_type": "display_data",
       "text": [
        "<IPython.core.display.Javascript at 0x11b147cd0>"
       ]
      },
      {
       "javascript": [
        "$('div#21587e3b-af9a-482a-8ad6-520b8df27a08').width('96%')"
       ],
       "metadata": {},
       "output_type": "display_data",
       "text": [
        "<IPython.core.display.Javascript at 0x11b147cd0>"
       ]
      },
      {
       "javascript": [
        "$('div#21587e3b-af9a-482a-8ad6-520b8df27a08').width('97%')"
       ],
       "metadata": {},
       "output_type": "display_data",
       "text": [
        "<IPython.core.display.Javascript at 0x11b147cd0>"
       ]
      },
      {
       "javascript": [
        "$('div#21587e3b-af9a-482a-8ad6-520b8df27a08').width('97%')"
       ],
       "metadata": {},
       "output_type": "display_data",
       "text": [
        "<IPython.core.display.Javascript at 0x11b147cd0>"
       ]
      },
      {
       "javascript": [
        "$('div#21587e3b-af9a-482a-8ad6-520b8df27a08').width('97%')"
       ],
       "metadata": {},
       "output_type": "display_data",
       "text": [
        "<IPython.core.display.Javascript at 0x11b147cd0>"
       ]
      },
      {
       "javascript": [
        "$('div#21587e3b-af9a-482a-8ad6-520b8df27a08').width('98%')"
       ],
       "metadata": {},
       "output_type": "display_data",
       "text": [
        "<IPython.core.display.Javascript at 0x11b147cd0>"
       ]
      },
      {
       "javascript": [
        "$('div#21587e3b-af9a-482a-8ad6-520b8df27a08').width('98%')"
       ],
       "metadata": {},
       "output_type": "display_data",
       "text": [
        "<IPython.core.display.Javascript at 0x11b147cd0>"
       ]
      },
      {
       "javascript": [
        "$('div#21587e3b-af9a-482a-8ad6-520b8df27a08').width('98%')"
       ],
       "metadata": {},
       "output_type": "display_data",
       "text": [
        "<IPython.core.display.Javascript at 0x11b147cd0>"
       ]
      },
      {
       "javascript": [
        "$('div#21587e3b-af9a-482a-8ad6-520b8df27a08').width('99%')"
       ],
       "metadata": {},
       "output_type": "display_data",
       "text": [
        "<IPython.core.display.Javascript at 0x11b147cd0>"
       ]
      },
      {
       "javascript": [
        "$('div#21587e3b-af9a-482a-8ad6-520b8df27a08').width('99%')"
       ],
       "metadata": {},
       "output_type": "display_data",
       "text": [
        "<IPython.core.display.Javascript at 0x11b147cd0>"
       ]
      },
      {
       "javascript": [
        "$('div#21587e3b-af9a-482a-8ad6-520b8df27a08').width('99%')"
       ],
       "metadata": {},
       "output_type": "display_data",
       "text": [
        "<IPython.core.display.Javascript at 0x11b147cd0>"
       ]
      },
      {
       "javascript": [
        "$('div#21587e3b-af9a-482a-8ad6-520b8df27a08').width('99%')"
       ],
       "metadata": {},
       "output_type": "display_data",
       "text": [
        "<IPython.core.display.Javascript at 0x11b147cd0>"
       ]
      },
      {
       "metadata": {},
       "output_type": "pyout",
       "prompt_number": 15,
       "text": [
        "<SimpleITK.Image; proxy of <Swig Object of type 'std::vector< itk::simple::Image >::value_type *' at 0x11fcad960> >"
       ]
      }
     ],
     "prompt_number": 15
    },
    {
     "cell_type": "markdown",
     "metadata": {},
     "source": [
      "### Support for Bi-direction JavaScript\n",
      "\n",
      "It's possible to get button in HTML to execute python code..."
     ]
    },
    {
     "cell_type": "code",
     "collapsed": false,
     "input": [
      "import uuid\n",
      "from IPython.display import HTML, Javascript, display\n",
      "\n",
      "g_Abort = False\n",
      "divid = str(uuid.uuid4())\n",
      "\n",
      "html_progress_abort=\"\"\"\n",
      "<div style=\"background-color:gainsboro; border:2px solid black;padding:15px\">\n",
      "<p style=\"margin:5px\">FilterName:</p>\n",
      "<div style=\"border: 1px solid black;padding:1px;margin:5px\">\n",
      "  <div id=\"{0}\" style=\"background-color:blue; width:0%%\">&nbsp;</div>\n",
      "</div>\n",
      "<button onclick=\"set_value()\" style=\"margin:5px\" >Abort</button>\n",
      "</div>\n",
      "\"\"\".format(divid)\n",
      "\n",
      "javascript_abort = \"\"\"\n",
      "<script type=\"text/Javascript\">\n",
      "    function set_value(){\n",
      "        var command = \"g_Abort=True\"\n",
      "        console.log(\"Executing Command: \" + command);\n",
      "        \n",
      "        var kernel = IPython.notebook.kernel;\n",
      "        kernel.execute(command);\n",
      "    }\n",
      "</script>\n",
      "\"\"\"\n",
      "\n",
      "def command_js_progress_abort(processObject):\n",
      "    p = processObject.GetProgress()\n",
      "    display(Javascript(\"$('div#%s').width('%i%%')\" % (divid, int(p*100))))\n",
      "    if g_Abort:\n",
      "        processObject.Abort()\n",
      "        \n",
      "def command_js_start_abort():        \n",
      "    g_Abort=False"
     ],
     "language": "python",
     "metadata": {},
     "outputs": [],
     "prompt_number": 16
    },
    {
     "cell_type": "code",
     "collapsed": false,
     "input": [
      "g_Abort=False\n",
      "gFilter.RemoveAllCommands()\n",
      "gFilter.AddCommand(sitk.sitkStartEvent, command_js_start_abort )\n",
      "gFilter.AddCommand(sitk.sitkStartEvent, lambda:  display(HTML(html_progress_abort+javascript_abort)))\n",
      "gFilter.AddCommand(sitk.sitkProgressEvent, lambda: command_js_progress_abort(gFilter))"
     ],
     "language": "python",
     "metadata": {},
     "outputs": [
      {
       "metadata": {},
       "output_type": "pyout",
       "prompt_number": 17,
       "text": [
        "0"
       ]
      }
     ],
     "prompt_number": 17
    },
    {
     "cell_type": "markdown",
     "metadata": {},
     "source": [
      "A caveat with this approach is that the is that the IPython kernel must continue to execute while the filter is. So we must place the filter in a thread."
     ]
    },
    {
     "cell_type": "code",
     "collapsed": false,
     "input": [
      "import threading\n",
      "threading.Thread( target=lambda:gFilter.Execute(img) ).start()"
     ],
     "language": "python",
     "metadata": {},
     "outputs": [
      {
       "html": [
        "\n",
        "<div style=\"background-color:gainsboro; border:2px solid black;padding:15px\">\n",
        "<p style=\"margin:5px\">FilterName:</p>\n",
        "<div style=\"border: 1px solid black;padding:1px;margin:5px\">\n",
        "  <div id=\"07f5245c-d07c-4b71-bffa-f9ecca62bf8f\" style=\"background-color:blue; width:0%%\">&nbsp;</div>\n",
        "</div>\n",
        "<button onclick=\"set_value()\" style=\"margin:5px\" >Abort</button>\n",
        "</div>\n",
        "\n",
        "<script type=\"text/Javascript\">\n",
        "    function set_value(){\n",
        "        var command = \"g_Abort=True\"\n",
        "        console.log(\"Executing Command: \" + command);\n",
        "        \n",
        "        var kernel = IPython.notebook.kernel;\n",
        "        kernel.execute(command);\n",
        "    }\n",
        "</script>\n"
       ],
       "metadata": {},
       "output_type": "display_data",
       "text": [
        "<IPython.core.display.HTML at 0x11b15a950>"
       ]
      },
      {
       "javascript": [
        "$('div#07f5245c-d07c-4b71-bffa-f9ecca62bf8f').width('0%')"
       ],
       "metadata": {},
       "output_type": "display_data",
       "text": [
        "<IPython.core.display.Javascript at 0x11b147c10>"
       ]
      },
      {
       "javascript": [
        "$('div#07f5245c-d07c-4b71-bffa-f9ecca62bf8f').width('100%')"
       ],
       "metadata": {},
       "output_type": "display_data",
       "text": [
        "<IPython.core.display.Javascript at 0x11b596b90>"
       ]
      }
     ],
     "prompt_number": 20
    },
    {
     "cell_type": "code",
     "collapsed": false,
     "input": [
      "\n",
      "threading.Thread( target=lambda:gFilter.Execute(img) ).start()"
     ],
     "language": "python",
     "metadata": {},
     "outputs": [
      {
       "html": [
        "\n",
        "<div style=\"background-color:gainsboro; border:2px solid black;padding:15px\">\n",
        "<p style=\"margin:5px\">FilterName:</p>\n",
        "<div style=\"border: 1px solid black;padding:1px;margin:5px\">\n",
        "  <div id=\"07f5245c-d07c-4b71-bffa-f9ecca62bf8f\" style=\"background-color:blue; width:0%%\">&nbsp;</div>\n",
        "</div>\n",
        "<button onclick=\"set_value()\" style=\"margin:5px\" >Abort</button>\n",
        "</div>\n",
        "\n",
        "<script type=\"text/Javascript\">\n",
        "    function set_value(){\n",
        "        var command = \"g_Abort=True\"\n",
        "        console.log(\"Executing Command: \" + command);\n",
        "        \n",
        "        var kernel = IPython.notebook.kernel;\n",
        "        kernel.execute(command);\n",
        "    }\n",
        "</script>\n"
       ],
       "metadata": {},
       "output_type": "display_data",
       "text": [
        "<IPython.core.display.HTML at 0x11b15ac50>"
       ]
      },
      {
       "javascript": [
        "$('div#07f5245c-d07c-4b71-bffa-f9ecca62bf8f').width('0%')"
       ],
       "metadata": {},
       "output_type": "display_data",
       "text": [
        "<IPython.core.display.Javascript at 0x10bc0a510>"
       ]
      },
      {
       "javascript": [
        "$('div#07f5245c-d07c-4b71-bffa-f9ecca62bf8f').width('100%')"
       ],
       "metadata": {},
       "output_type": "display_data",
       "text": [
        "<IPython.core.display.Javascript at 0x10bc0a510>"
       ]
      }
     ],
     "prompt_number": 21
    },
    {
     "cell_type": "code",
     "collapsed": false,
     "input": [],
     "language": "python",
     "metadata": {},
     "outputs": []
    }
   ],
   "metadata": {}
  }
 ]
}